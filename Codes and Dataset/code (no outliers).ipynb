{
 "cells": [
  {
   "cell_type": "markdown",
   "metadata": {},
   "source": [
    "# Importing the Libraries"
   ]
  },
  {
   "cell_type": "code",
   "execution_count": 2,
   "metadata": {},
   "outputs": [],
   "source": [
    "\n",
    "import pandas as pd\n",
    "import matplotlib.pyplot as plt\n",
    "import numpy as np\n",
    "\n",
    "from scipy import stats\n",
    "from scipy.stats import shapiro, kstest, iqr, friedmanchisquare, ttest_rel, wilcoxon\n",
    "\n",
    "import statsmodels.api as sm\n",
    "from statsmodels.stats.anova import AnovaRM, anova_lm\n",
    "from statsmodels.stats.multitest import multipletests\n",
    "import pingouin as pg\n",
    "import warnings\n",
    "import statsmodels.formula.api as smf\n",
    "\n",
    "# Ignore all warnings\n",
    "warnings.filterwarnings(\"ignore\")\n",
    "\n",
    "# %matplotlib qt"
   ]
  },
  {
   "cell_type": "markdown",
   "metadata": {},
   "source": [
    "# Loading the Data"
   ]
  },
  {
   "cell_type": "code",
   "execution_count": 3,
   "metadata": {},
   "outputs": [
    {
     "data": {
      "text/html": [
       "<div>\n",
       "<style scoped>\n",
       "    .dataframe tbody tr th:only-of-type {\n",
       "        vertical-align: middle;\n",
       "    }\n",
       "\n",
       "    .dataframe tbody tr th {\n",
       "        vertical-align: top;\n",
       "    }\n",
       "\n",
       "    .dataframe thead th {\n",
       "        text-align: right;\n",
       "    }\n",
       "</style>\n",
       "<table border=\"1\" class=\"dataframe\">\n",
       "  <thead>\n",
       "    <tr style=\"text-align: right;\">\n",
       "      <th></th>\n",
       "      <th>Participant</th>\n",
       "      <th>ID</th>\n",
       "      <th>Sex</th>\n",
       "      <th>Age</th>\n",
       "      <th>Baseline</th>\n",
       "      <th>Description_type</th>\n",
       "      <th>VOI</th>\n",
       "      <th>DTT</th>\n",
       "      <th>WTP</th>\n",
       "      <th>WTPM</th>\n",
       "      <th>...</th>\n",
       "      <th>Imagery3</th>\n",
       "      <th>Imagery4</th>\n",
       "      <th>Imagery5</th>\n",
       "      <th>Imagery6</th>\n",
       "      <th>ImagerySmell</th>\n",
       "      <th>ImageryFeel</th>\n",
       "      <th>ImageryTaste</th>\n",
       "      <th>ImageryM</th>\n",
       "      <th>Notice</th>\n",
       "      <th>NoticeText</th>\n",
       "    </tr>\n",
       "  </thead>\n",
       "  <tbody>\n",
       "    <tr>\n",
       "      <th>0</th>\n",
       "      <td>1</td>\n",
       "      <td>R_2DUdB9mszOgnM3X</td>\n",
       "      <td>Female</td>\n",
       "      <td>19</td>\n",
       "      <td>7.10</td>\n",
       "      <td>Abstract</td>\n",
       "      <td>2.8</td>\n",
       "      <td>2.8</td>\n",
       "      <td>1.504</td>\n",
       "      <td>1.2185</td>\n",
       "      <td>...</td>\n",
       "      <td>4</td>\n",
       "      <td>5</td>\n",
       "      <td>5</td>\n",
       "      <td>5</td>\n",
       "      <td>4.5</td>\n",
       "      <td>5.0</td>\n",
       "      <td>4.5</td>\n",
       "      <td>4.666667</td>\n",
       "      <td>No</td>\n",
       "      <td>NaN</td>\n",
       "    </tr>\n",
       "    <tr>\n",
       "      <th>1</th>\n",
       "      <td>1</td>\n",
       "      <td>R_2DUdB9mszOgnM3X</td>\n",
       "      <td>Female</td>\n",
       "      <td>19</td>\n",
       "      <td>7.10</td>\n",
       "      <td>Combination</td>\n",
       "      <td>1.6</td>\n",
       "      <td>2.0</td>\n",
       "      <td>1.030</td>\n",
       "      <td>1.2185</td>\n",
       "      <td>...</td>\n",
       "      <td>4</td>\n",
       "      <td>5</td>\n",
       "      <td>5</td>\n",
       "      <td>5</td>\n",
       "      <td>4.5</td>\n",
       "      <td>5.0</td>\n",
       "      <td>4.5</td>\n",
       "      <td>4.666667</td>\n",
       "      <td>No</td>\n",
       "      <td>NaN</td>\n",
       "    </tr>\n",
       "    <tr>\n",
       "      <th>2</th>\n",
       "      <td>1</td>\n",
       "      <td>R_2DUdB9mszOgnM3X</td>\n",
       "      <td>Female</td>\n",
       "      <td>19</td>\n",
       "      <td>7.10</td>\n",
       "      <td>Evaluative</td>\n",
       "      <td>3.2</td>\n",
       "      <td>3.2</td>\n",
       "      <td>2.200</td>\n",
       "      <td>1.2185</td>\n",
       "      <td>...</td>\n",
       "      <td>4</td>\n",
       "      <td>5</td>\n",
       "      <td>5</td>\n",
       "      <td>5</td>\n",
       "      <td>4.5</td>\n",
       "      <td>5.0</td>\n",
       "      <td>4.5</td>\n",
       "      <td>4.666667</td>\n",
       "      <td>No</td>\n",
       "      <td>NaN</td>\n",
       "    </tr>\n",
       "    <tr>\n",
       "      <th>3</th>\n",
       "      <td>1</td>\n",
       "      <td>R_2DUdB9mszOgnM3X</td>\n",
       "      <td>Female</td>\n",
       "      <td>19</td>\n",
       "      <td>7.10</td>\n",
       "      <td>Source-based</td>\n",
       "      <td>1.0</td>\n",
       "      <td>1.0</td>\n",
       "      <td>0.140</td>\n",
       "      <td>1.2185</td>\n",
       "      <td>...</td>\n",
       "      <td>4</td>\n",
       "      <td>5</td>\n",
       "      <td>5</td>\n",
       "      <td>5</td>\n",
       "      <td>4.5</td>\n",
       "      <td>5.0</td>\n",
       "      <td>4.5</td>\n",
       "      <td>4.666667</td>\n",
       "      <td>No</td>\n",
       "      <td>NaN</td>\n",
       "    </tr>\n",
       "    <tr>\n",
       "      <th>4</th>\n",
       "      <td>2</td>\n",
       "      <td>R_3g5RyAsUGn5YAr1</td>\n",
       "      <td>Female</td>\n",
       "      <td>37</td>\n",
       "      <td>9.73</td>\n",
       "      <td>Abstract</td>\n",
       "      <td>2.6</td>\n",
       "      <td>2.4</td>\n",
       "      <td>6.294</td>\n",
       "      <td>6.3360</td>\n",
       "      <td>...</td>\n",
       "      <td>5</td>\n",
       "      <td>5</td>\n",
       "      <td>4</td>\n",
       "      <td>3</td>\n",
       "      <td>5.0</td>\n",
       "      <td>4.5</td>\n",
       "      <td>4.0</td>\n",
       "      <td>4.500000</td>\n",
       "      <td>No</td>\n",
       "      <td>NaN</td>\n",
       "    </tr>\n",
       "    <tr>\n",
       "      <th>...</th>\n",
       "      <td>...</td>\n",
       "      <td>...</td>\n",
       "      <td>...</td>\n",
       "      <td>...</td>\n",
       "      <td>...</td>\n",
       "      <td>...</td>\n",
       "      <td>...</td>\n",
       "      <td>...</td>\n",
       "      <td>...</td>\n",
       "      <td>...</td>\n",
       "      <td>...</td>\n",
       "      <td>...</td>\n",
       "      <td>...</td>\n",
       "      <td>...</td>\n",
       "      <td>...</td>\n",
       "      <td>...</td>\n",
       "      <td>...</td>\n",
       "      <td>...</td>\n",
       "      <td>...</td>\n",
       "      <td>...</td>\n",
       "      <td>...</td>\n",
       "    </tr>\n",
       "    <tr>\n",
       "      <th>155</th>\n",
       "      <td>39</td>\n",
       "      <td>R_3CWasnEjqYbK566</td>\n",
       "      <td>Male</td>\n",
       "      <td>23</td>\n",
       "      <td>20.00</td>\n",
       "      <td>Source-based</td>\n",
       "      <td>4.0</td>\n",
       "      <td>4.0</td>\n",
       "      <td>15.746</td>\n",
       "      <td>15.4505</td>\n",
       "      <td>...</td>\n",
       "      <td>5</td>\n",
       "      <td>5</td>\n",
       "      <td>5</td>\n",
       "      <td>5</td>\n",
       "      <td>5.0</td>\n",
       "      <td>5.0</td>\n",
       "      <td>5.0</td>\n",
       "      <td>5.000000</td>\n",
       "      <td>No</td>\n",
       "      <td>NaN</td>\n",
       "    </tr>\n",
       "    <tr>\n",
       "      <th>156</th>\n",
       "      <td>40</td>\n",
       "      <td>R_3s0yiAaiI5daHDc</td>\n",
       "      <td>Female</td>\n",
       "      <td>23</td>\n",
       "      <td>5.79</td>\n",
       "      <td>Abstract</td>\n",
       "      <td>4.4</td>\n",
       "      <td>3.6</td>\n",
       "      <td>5.962</td>\n",
       "      <td>5.4485</td>\n",
       "      <td>...</td>\n",
       "      <td>4</td>\n",
       "      <td>3</td>\n",
       "      <td>4</td>\n",
       "      <td>4</td>\n",
       "      <td>4.0</td>\n",
       "      <td>3.5</td>\n",
       "      <td>4.0</td>\n",
       "      <td>3.833333</td>\n",
       "      <td>Yes</td>\n",
       "      <td>the taste /flavour or feelings induced when dr...</td>\n",
       "    </tr>\n",
       "    <tr>\n",
       "      <th>157</th>\n",
       "      <td>40</td>\n",
       "      <td>R_3s0yiAaiI5daHDc</td>\n",
       "      <td>Female</td>\n",
       "      <td>23</td>\n",
       "      <td>5.79</td>\n",
       "      <td>Combination</td>\n",
       "      <td>4.0</td>\n",
       "      <td>3.6</td>\n",
       "      <td>4.826</td>\n",
       "      <td>5.4485</td>\n",
       "      <td>...</td>\n",
       "      <td>4</td>\n",
       "      <td>3</td>\n",
       "      <td>4</td>\n",
       "      <td>4</td>\n",
       "      <td>4.0</td>\n",
       "      <td>3.5</td>\n",
       "      <td>4.0</td>\n",
       "      <td>3.833333</td>\n",
       "      <td>Yes</td>\n",
       "      <td>the taste /flavour or feelings induced when dr...</td>\n",
       "    </tr>\n",
       "    <tr>\n",
       "      <th>158</th>\n",
       "      <td>40</td>\n",
       "      <td>R_3s0yiAaiI5daHDc</td>\n",
       "      <td>Female</td>\n",
       "      <td>23</td>\n",
       "      <td>5.79</td>\n",
       "      <td>Evaluative</td>\n",
       "      <td>3.6</td>\n",
       "      <td>3.6</td>\n",
       "      <td>4.740</td>\n",
       "      <td>5.4485</td>\n",
       "      <td>...</td>\n",
       "      <td>4</td>\n",
       "      <td>3</td>\n",
       "      <td>4</td>\n",
       "      <td>4</td>\n",
       "      <td>4.0</td>\n",
       "      <td>3.5</td>\n",
       "      <td>4.0</td>\n",
       "      <td>3.833333</td>\n",
       "      <td>Yes</td>\n",
       "      <td>the taste /flavour or feelings induced when dr...</td>\n",
       "    </tr>\n",
       "    <tr>\n",
       "      <th>159</th>\n",
       "      <td>40</td>\n",
       "      <td>R_3s0yiAaiI5daHDc</td>\n",
       "      <td>Female</td>\n",
       "      <td>23</td>\n",
       "      <td>5.79</td>\n",
       "      <td>Source-based</td>\n",
       "      <td>4.4</td>\n",
       "      <td>3.4</td>\n",
       "      <td>6.266</td>\n",
       "      <td>5.4485</td>\n",
       "      <td>...</td>\n",
       "      <td>4</td>\n",
       "      <td>3</td>\n",
       "      <td>4</td>\n",
       "      <td>4</td>\n",
       "      <td>4.0</td>\n",
       "      <td>3.5</td>\n",
       "      <td>4.0</td>\n",
       "      <td>3.833333</td>\n",
       "      <td>Yes</td>\n",
       "      <td>the taste /flavour or feelings induced when dr...</td>\n",
       "    </tr>\n",
       "  </tbody>\n",
       "</table>\n",
       "<p>160 rows × 35 columns</p>\n",
       "</div>"
      ],
      "text/plain": [
       "     Participant                 ID     Sex  Age  Baseline Description_type  \\\n",
       "0              1  R_2DUdB9mszOgnM3X  Female   19      7.10         Abstract   \n",
       "1              1  R_2DUdB9mszOgnM3X  Female   19      7.10      Combination   \n",
       "2              1  R_2DUdB9mszOgnM3X  Female   19      7.10       Evaluative   \n",
       "3              1  R_2DUdB9mszOgnM3X  Female   19      7.10     Source-based   \n",
       "4              2  R_3g5RyAsUGn5YAr1  Female   37      9.73         Abstract   \n",
       "..           ...                ...     ...  ...       ...              ...   \n",
       "155           39  R_3CWasnEjqYbK566    Male   23     20.00     Source-based   \n",
       "156           40  R_3s0yiAaiI5daHDc  Female   23      5.79         Abstract   \n",
       "157           40  R_3s0yiAaiI5daHDc  Female   23      5.79      Combination   \n",
       "158           40  R_3s0yiAaiI5daHDc  Female   23      5.79       Evaluative   \n",
       "159           40  R_3s0yiAaiI5daHDc  Female   23      5.79     Source-based   \n",
       "\n",
       "     VOI  DTT     WTP     WTPM  ...  Imagery3 Imagery4 Imagery5  Imagery6  \\\n",
       "0    2.8  2.8   1.504   1.2185  ...         4        5        5         5   \n",
       "1    1.6  2.0   1.030   1.2185  ...         4        5        5         5   \n",
       "2    3.2  3.2   2.200   1.2185  ...         4        5        5         5   \n",
       "3    1.0  1.0   0.140   1.2185  ...         4        5        5         5   \n",
       "4    2.6  2.4   6.294   6.3360  ...         5        5        4         3   \n",
       "..   ...  ...     ...      ...  ...       ...      ...      ...       ...   \n",
       "155  4.0  4.0  15.746  15.4505  ...         5        5        5         5   \n",
       "156  4.4  3.6   5.962   5.4485  ...         4        3        4         4   \n",
       "157  4.0  3.6   4.826   5.4485  ...         4        3        4         4   \n",
       "158  3.6  3.6   4.740   5.4485  ...         4        3        4         4   \n",
       "159  4.4  3.4   6.266   5.4485  ...         4        3        4         4   \n",
       "\n",
       "     ImagerySmell  ImageryFeel  ImageryTaste  ImageryM  Notice  \\\n",
       "0             4.5          5.0           4.5  4.666667      No   \n",
       "1             4.5          5.0           4.5  4.666667      No   \n",
       "2             4.5          5.0           4.5  4.666667      No   \n",
       "3             4.5          5.0           4.5  4.666667      No   \n",
       "4             5.0          4.5           4.0  4.500000      No   \n",
       "..            ...          ...           ...       ...     ...   \n",
       "155           5.0          5.0           5.0  5.000000      No   \n",
       "156           4.0          3.5           4.0  3.833333     Yes   \n",
       "157           4.0          3.5           4.0  3.833333     Yes   \n",
       "158           4.0          3.5           4.0  3.833333     Yes   \n",
       "159           4.0          3.5           4.0  3.833333     Yes   \n",
       "\n",
       "                                            NoticeText  \n",
       "0                                                  NaN  \n",
       "1                                                  NaN  \n",
       "2                                                  NaN  \n",
       "3                                                  NaN  \n",
       "4                                                  NaN  \n",
       "..                                                 ...  \n",
       "155                                                NaN  \n",
       "156  the taste /flavour or feelings induced when dr...  \n",
       "157  the taste /flavour or feelings induced when dr...  \n",
       "158  the taste /flavour or feelings induced when dr...  \n",
       "159  the taste /flavour or feelings induced when dr...  \n",
       "\n",
       "[160 rows x 35 columns]"
      ]
     },
     "execution_count": 3,
     "metadata": {},
     "output_type": "execute_result"
    }
   ],
   "source": [
    "# Experiment A\n",
    "Data_exp1_mean = pd.read_excel(\"CoffeeImagery_AveragedDataExp1_20220824.xlsx\")\n",
    "Data_exp1_mean"
   ]
  },
  {
   "cell_type": "markdown",
   "metadata": {},
   "source": [
    "# Visualizing the data (boxplots)"
   ]
  },
  {
   "cell_type": "code",
   "execution_count": 4,
   "metadata": {},
   "outputs": [
    {
     "data": {
      "image/png": "[encoded data removed]",
      "text/plain": [
       "<Figure size 1600x800 with 3 Axes>"
      ]
     },
     "metadata": {},
     "output_type": "display_data"
    }
   ],
   "source": [
    "# Vividness of Imaginery \n",
    "VOI = Data_exp1_mean[[\"Participant\", \"Description_type\", \"VOI\"]]\n",
    "\n",
    "# Desire to Test\n",
    "DTT = Data_exp1_mean[[\"Participant\", \"Description_type\", \"DTT\"]]\n",
    "\n",
    "# Willingness to Pay\n",
    "WTP = Data_exp1_mean[[\"Participant\", \"Description_type\", \"WTP\"]]\n",
    "\n",
    "# VOI\n",
    "VOI1 = VOI[VOI[\"Description_type\"]==\"Source-based\"][\"VOI\"].values\n",
    "VOI2 = VOI[VOI[\"Description_type\"]==\"Abstract\"][\"VOI\"].values\n",
    "VOI3 = VOI[VOI[\"Description_type\"]==\"Evaluative\"][\"VOI\"].values\n",
    "VOI4 = VOI[VOI[\"Description_type\"]==\"Combination\"][\"VOI\"].values\n",
    "\n",
    "DTT1 = DTT[DTT[\"Description_type\"]==\"Source-based\"][\"DTT\"].values\n",
    "DTT2 = DTT[DTT[\"Description_type\"]==\"Abstract\"][\"DTT\"].values\n",
    "DTT3 = DTT[DTT[\"Description_type\"]==\"Evaluative\"][\"DTT\"].values\n",
    "DTT4 = DTT[DTT[\"Description_type\"]==\"Combination\"][\"DTT\"].values\n",
    "\n",
    "WTP1 = WTP[WTP[\"Description_type\"]==\"Source-based\"][\"WTP\"].values\n",
    "WTP2 = WTP[WTP[\"Description_type\"]==\"Abstract\"][\"WTP\"].values\n",
    "WTP3 = WTP[WTP[\"Description_type\"]==\"Evaluative\"][\"WTP\"].values\n",
    "WTP4 = WTP[WTP[\"Description_type\"]==\"Combination\"][\"WTP\"].values\n",
    "\n",
    "# Create a figure and axis object\n",
    "fig, ax = plt.subplots(1, 3, figsize=(16, 8))\n",
    "\n",
    "# Create a box plot with custom styling for VOI\n",
    "boxplot = ax[0].boxplot(\n",
    "    [VOI1, VOI2, VOI3, VOI4],\n",
    "    labels=['Source-based', 'Abstract', 'Evaluative', 'Combination'],\n",
    "    patch_artist=True,  # For filled boxes\n",
    "    medianprops={'color': 'black'},  # Median line color\n",
    "    boxprops={'facecolor': 'lightblue', 'edgecolor': 'blue'},  # Box color and edge color\n",
    "    whiskerprops={'color': 'gray'},  # Whisker color\n",
    "    capprops={'color': 'gray'},  # Caps on whiskers color\n",
    "    flierprops={'marker': 'o', 'markerfacecolor': 'red', 'markeredgecolor': 'red'},  # Outlier marker\n",
    ")\n",
    "\n",
    "# Create a box plot with custom styling for DTT\n",
    "boxplot = ax[1].boxplot(\n",
    "    [DTT1, DTT2, DTT3, DTT4],\n",
    "    labels=['Source-based', 'Abstract', 'Evaluative', 'Combination'],\n",
    "    patch_artist=True,  # For filled boxes\n",
    "    medianprops={'color': 'black'},  # Median line color\n",
    "    boxprops={'facecolor': 'lightblue', 'edgecolor': 'blue'},  # Box color and edge color\n",
    "    whiskerprops={'color': 'gray'},  # Whisker color\n",
    "    capprops={'color': 'gray'},  # Caps on whiskers color\n",
    "    flierprops={'marker': 'o', 'markerfacecolor': 'red', 'markeredgecolor': 'red'},  # Outlier marker\n",
    ")\n",
    "\n",
    "# Create a box plot with custom styling for WTP\n",
    "boxplot = ax[2].boxplot(\n",
    "    [WTP1, WTP2, WTP3, WTP4],\n",
    "    labels=['Source-based', 'Abstract', 'Evaluative', 'Combination'],\n",
    "    patch_artist=True,  # For filled boxes\n",
    "    medianprops={'color': 'black'},  # Median line color\n",
    "    boxprops={'facecolor': 'lightblue', 'edgecolor': 'blue'},  # Box color and edge color\n",
    "    whiskerprops={'color': 'gray'},  # Whisker color\n",
    "    capprops={'color': 'gray'},  # Caps on whiskers color\n",
    "    flierprops={'marker': 'o', 'markerfacecolor': 'red', 'markeredgecolor': 'red'},  # Outlier marker\n",
    ")\n",
    "\n",
    "# Add labels and title\n",
    "ax[0].set_ylabel('VOI (1-5 scale)')\n",
    "ax[0].set_title('Vividness of Imaginary')\n",
    "\n",
    "ax[1].set_ylabel('DTT (1-5 scale)')\n",
    "ax[1].set_title('Desire to Taste')\n",
    "\n",
    "ax[2].set_ylabel('WTP (in GBP)')\n",
    "ax[2].set_title('Willingness to pay')\n",
    "\n",
    "# Show the plot\n",
    "plt.show()\n"
   ]
  },
  {
   "cell_type": "markdown",
   "metadata": {},
   "source": [
    "# Removing the outliers"
   ]
  },
  {
   "cell_type": "code",
   "execution_count": 5,
   "metadata": {},
   "outputs": [
    {
     "name": "stdout",
     "output_type": "stream",
     "text": [
      "     Participant Description_type     WTP\n",
      "130           33       Evaluative  15.098\n",
      "152           39         Abstract  14.930\n",
      "153           39      Combination  16.394\n",
      "154           39       Evaluative  14.732\n",
      "155           39     Source-based  15.746\n"
     ]
    }
   ],
   "source": [
    "print(WTP[WTP[\"WTP\"]>14])\n",
    "\n",
    "WTP_r = WTP\n",
    "DTT_r = DTT\n",
    "VOI_r = VOI\n",
    "\n",
    "Data_exp1_mean_r = Data_exp1_mean"
   ]
  },
  {
   "cell_type": "markdown",
   "metadata": {},
   "source": [
    "# Checking Normality"
   ]
  },
  {
   "cell_type": "markdown",
   "metadata": {},
   "source": [
    "## WTP (Willingness to Pay)"
   ]
  },
  {
   "cell_type": "code",
   "execution_count": 6,
   "metadata": {},
   "outputs": [
    {
     "data": {
      "image/png": "[encoded data removed]",
      "text/plain": [
       "<Figure size 1000x500 with 2 Axes>"
      ]
     },
     "metadata": {},
     "output_type": "display_data"
    },
    {
     "name": "stdout",
     "output_type": "stream",
     "text": [
      "Shapiro-Wilk Test:\n",
      "Statistic=0.933, p-value=0.0\n",
      "The data does not appear to be normally distributed.\n",
      "\n",
      "\n",
      "Kolmogorov-Smirnov Test:\n",
      "Statistic=0.895, p-value=0.0\n",
      "The data does not appear to be normally distributed.\n"
     ]
    }
   ],
   "source": [
    "fig, ax = plt.subplots(1, 2, figsize = (10,5))\n",
    "\n",
    "# Plot histogram\n",
    "\n",
    "fig.suptitle('WTP (Willingness to Pay)')\n",
    "ax[0].hist(WTP_r[\"WTP\"].values, bins='auto', color='blue', edgecolor='black')\n",
    "ax[0].set_xlabel('WTP (in GBP)')\n",
    "ax[0].set_ylabel('Frequency')\n",
    "ax[0].set_title('Histogram')\n",
    "\n",
    "# Plot QQ-plot\n",
    "\n",
    "stats.probplot(WTP_r[\"WTP\"].values, plot=ax[1], fit=True)\n",
    "ax[1].set_ylabel('WTP (in GBP)')\n",
    "ax[1].set_title('Q-Q Plot')\n",
    "\n",
    "plt.show()\n",
    "\n",
    "# Shapiro-Wilk Test\n",
    "\n",
    "stat, p_value = shapiro(WTP_r[\"WTP\"].values)\n",
    "print(f'Shapiro-Wilk Test:\\nStatistic={round(stat, 3)}, p-value={round(p_value, 4)}')\n",
    "\n",
    "if p_value > 0.01:\n",
    "    print('The data appears to be normally distributed.')\n",
    "else:\n",
    "    print('The data does not appear to be normally distributed.\\n\\n')\n",
    "\n",
    "\n",
    "# Kolmogorov-Smirnov Test:\n",
    "\n",
    "stat, p_value = kstest(WTP_r[\"WTP\"].values, 'norm')\n",
    "print(f'Kolmogorov-Smirnov Test:\\nStatistic={round(stat, 3)}, p-value={round(p_value, 4)}')\n",
    "\n",
    "if p_value > 0.01:\n",
    "    print('The data appears to be normally distributed.')\n",
    "else:\n",
    "    print('The data does not appear to be normally distributed.')"
   ]
  },
  {
   "cell_type": "markdown",
   "metadata": {},
   "source": [
    "## DTT (Desire to Taste)"
   ]
  },
  {
   "cell_type": "code",
   "execution_count": 7,
   "metadata": {},
   "outputs": [
    {
     "data": {
      "image/png": "[encoded data removed]",
      "text/plain": [
       "<Figure size 1000x500 with 2 Axes>"
      ]
     },
     "metadata": {},
     "output_type": "display_data"
    },
    {
     "name": "stdout",
     "output_type": "stream",
     "text": [
      "Shapiro-Wilk Test:\n",
      "Statistic=0.989, p-value=0.2178\n",
      "The data appears to be normally distributed.\n",
      "\n",
      "\n",
      "Kolmogorov-Smirnov Test:\n",
      "Statistic=0.92, p-value=0.0\n",
      "The data does not appear to be normally distributed.\n"
     ]
    }
   ],
   "source": [
    "fig, ax = plt.subplots(1, 2, figsize = (10,5))\n",
    "\n",
    "# Plot histogram\n",
    "\n",
    "fig.suptitle('DTT (Desire to Taste)')\n",
    "ax[0].hist(DTT_r[\"DTT\"].values, bins='auto', color='blue', edgecolor='black')\n",
    "ax[0].set_xlabel('DTT (1-5 scale)')\n",
    "ax[0].set_ylabel('Frequency')\n",
    "ax[0].set_title('Histogram')\n",
    "\n",
    "# Plot QQ-plot\n",
    "\n",
    "stats.probplot(DTT_r[\"DTT\"].values, plot=ax[1], fit=True)\n",
    "ax[1].set_ylabel('DTT (1-5 scale)')\n",
    "ax[1].set_title('Q-Q Plot')\n",
    "\n",
    "plt.show()\n",
    "\n",
    "# Shapiro-Wilk Test\n",
    "\n",
    "stat, p_value = shapiro(DTT_r[\"DTT\"].values)\n",
    "print(f'Shapiro-Wilk Test:\\nStatistic={round(stat, 3)}, p-value={round(p_value, 4)}')\n",
    "\n",
    "if p_value > 0.01:\n",
    "    print('The data appears to be normally distributed.')\n",
    "else:\n",
    "    print('The data does not appear to be normally distributed.\\n\\n')\n",
    "\n",
    "\n",
    "# Kolmogorov-Smirnov Test:\n",
    "\n",
    "stat, p_value = kstest(DTT_r[\"DTT\"].values, 'norm')\n",
    "print(f'\\n\\nKolmogorov-Smirnov Test:\\nStatistic={round(stat, 3)}, p-value={round(p_value, 4)}')\n",
    "\n",
    "if p_value > 0.01:\n",
    "    print('The data appears to be normally distributed.')\n",
    "else:\n",
    "    print('The data does not appear to be normally distributed.')"
   ]
  },
  {
   "cell_type": "markdown",
   "metadata": {},
   "source": [
    "## VOI (Vividness of Imaginery)"
   ]
  },
  {
   "cell_type": "code",
   "execution_count": 8,
   "metadata": {},
   "outputs": [
    {
     "data": {
      "image/png": "[encoded data removed]",
      "text/plain": [
       "<Figure size 1000x500 with 2 Axes>"
      ]
     },
     "metadata": {},
     "output_type": "display_data"
    },
    {
     "name": "stdout",
     "output_type": "stream",
     "text": [
      "Shapiro-Wilk Test:\n",
      "Statistic=0.971, p-value=0.0021\n",
      "The data does not appear to be normally distributed.\n",
      "\n",
      "\n",
      "Kolmogorov-Smirnov Test:\n",
      "Statistic=0.854, p-value=0.0\n",
      "The data does not appear to be normally distributed.\n"
     ]
    }
   ],
   "source": [
    "fig, ax = plt.subplots(1, 2, figsize = (10,5))\n",
    "\n",
    "# Plot histogram\n",
    "\n",
    "fig.suptitle('VOI (Vividness of Imaginery)')\n",
    "ax[0].hist(VOI_r[\"VOI\"].values, bins='auto', color='blue', edgecolor='black')\n",
    "ax[0].set_xlabel('VOI (1-5 scale)')\n",
    "ax[0].set_ylabel('Frequency')\n",
    "ax[0].set_title('Histogram')\n",
    "\n",
    "# Plot QQ-plot\n",
    "\n",
    "stats.probplot(VOI_r[\"VOI\"].values, plot=ax[1], fit=True)\n",
    "ax[1].set_ylabel('VOI (1-5 scale)')\n",
    "ax[1].set_title('Q-Q Plot')\n",
    "\n",
    "plt.show()\n",
    "\n",
    "# Shapiro-Wilk Test\n",
    "\n",
    "stat, p_value = shapiro(VOI_r[\"VOI\"].values)\n",
    "print(f'Shapiro-Wilk Test:\\nStatistic={round(stat, 3)}, p-value={round(p_value, 4)}')\n",
    "\n",
    "if p_value > 0.01:\n",
    "    print('The data appears to be normally distributed.')\n",
    "else:\n",
    "    print('The data does not appear to be normally distributed.\\n\\n')\n",
    "\n",
    "\n",
    "# Kolmogorov-Smirnov Test:\n",
    "\n",
    "stat, p_value = kstest(VOI_r[\"VOI\"].values, 'norm')\n",
    "print(f'Kolmogorov-Smirnov Test:\\nStatistic={round(stat, 3)}, p-value={round(p_value, 4)}')\n",
    "\n",
    "if p_value > 0.01:\n",
    "    print('The data appears to be normally distributed.')\n",
    "else:\n",
    "    print('The data does not appear to be normally distributed.')"
   ]
  },
  {
   "cell_type": "markdown",
   "metadata": {},
   "source": [
    "# MEAN + SD + Robust stats"
   ]
  },
  {
   "cell_type": "markdown",
   "metadata": {},
   "source": [
    "## WTP"
   ]
  },
  {
   "cell_type": "code",
   "execution_count": 9,
   "metadata": {},
   "outputs": [
    {
     "data": {
      "text/html": [
       "<div>\n",
       "<style scoped>\n",
       "    .dataframe tbody tr th:only-of-type {\n",
       "        vertical-align: middle;\n",
       "    }\n",
       "\n",
       "    .dataframe tbody tr th {\n",
       "        vertical-align: top;\n",
       "    }\n",
       "\n",
       "    .dataframe thead th {\n",
       "        text-align: right;\n",
       "    }\n",
       "</style>\n",
       "<table border=\"1\" class=\"dataframe\">\n",
       "  <thead>\n",
       "    <tr style=\"text-align: right;\">\n",
       "      <th></th>\n",
       "      <th>Description type</th>\n",
       "      <th>Variable</th>\n",
       "      <th>n</th>\n",
       "      <th>mean</th>\n",
       "      <th>std</th>\n",
       "      <th>median</th>\n",
       "      <th>iqr</th>\n",
       "    </tr>\n",
       "  </thead>\n",
       "  <tbody>\n",
       "    <tr>\n",
       "      <th>0</th>\n",
       "      <td>Abstract</td>\n",
       "      <td>WTP</td>\n",
       "      <td>40</td>\n",
       "      <td>5.17</td>\n",
       "      <td>2.95</td>\n",
       "      <td>4.37</td>\n",
       "      <td>3.79</td>\n",
       "    </tr>\n",
       "    <tr>\n",
       "      <th>1</th>\n",
       "      <td>Combination</td>\n",
       "      <td>WTP</td>\n",
       "      <td>40</td>\n",
       "      <td>6.17</td>\n",
       "      <td>3.34</td>\n",
       "      <td>5.36</td>\n",
       "      <td>3.43</td>\n",
       "    </tr>\n",
       "    <tr>\n",
       "      <th>2</th>\n",
       "      <td>Evaluative</td>\n",
       "      <td>WTP</td>\n",
       "      <td>40</td>\n",
       "      <td>5.16</td>\n",
       "      <td>3.21</td>\n",
       "      <td>4.56</td>\n",
       "      <td>3.67</td>\n",
       "    </tr>\n",
       "    <tr>\n",
       "      <th>3</th>\n",
       "      <td>Source-based</td>\n",
       "      <td>WTP</td>\n",
       "      <td>40</td>\n",
       "      <td>6.28</td>\n",
       "      <td>3.37</td>\n",
       "      <td>5.78</td>\n",
       "      <td>3.76</td>\n",
       "    </tr>\n",
       "  </tbody>\n",
       "</table>\n",
       "</div>"
      ],
      "text/plain": [
       "  Description type Variable   n  mean   std  median   iqr\n",
       "0         Abstract      WTP  40  5.17  2.95    4.37  3.79\n",
       "1      Combination      WTP  40  6.17  3.34    5.36  3.43\n",
       "2       Evaluative      WTP  40  5.16  3.21    4.56  3.67\n",
       "3     Source-based      WTP  40  6.28  3.37    5.78  3.76"
      ]
     },
     "execution_count": 9,
     "metadata": {},
     "output_type": "execute_result"
    }
   ],
   "source": [
    "WTP_table = pd.DataFrame()\n",
    "    \n",
    "WTP_table[\"Description type\"] = [\"Abstract\", \"Combination\", \"Evaluative\", \"Source-based\"]\n",
    "WTP_table[\"Variable\"] = [\"WTP\"]*4\n",
    "WTP_table[\"n\"]    =      [len(WTP_r[WTP_r[\"Description_type\"]==\"Abstract\"])     ,                 len(WTP_r[WTP_r[\"Description_type\"]==\"Combination\"]),                      len(WTP_r[WTP_r[\"Description_type\"]==\"Evaluative\"]),                      len(WTP_r[WTP_r[\"Description_type\"]==\"Source-based\"])]\n",
    "WTP_table[\"mean\"] =    [round(WTP_r[WTP_r[\"Description_type\"]==\"Abstract\"][\"WTP\"].mean(), 2),   round(WTP_r[WTP_r[\"Description_type\"]==\"Combination\"][\"WTP\"].mean(), 2),   round(WTP_r[WTP_r[\"Description_type\"]==\"Evaluative\"][\"WTP\"].mean(), 2),   round(WTP_r[WTP_r[\"Description_type\"]==\"Source-based\"][\"WTP\"].mean(), 2)]\n",
    "WTP_table[\"std\"] =     [round(WTP_r[WTP_r[\"Description_type\"]==\"Abstract\"][\"WTP\"].std(), 2),    round(WTP_r[WTP_r[\"Description_type\"]==\"Combination\"][\"WTP\"].std(), 2),    round(WTP_r[WTP_r[\"Description_type\"]==\"Evaluative\"][\"WTP\"].std(), 2),    round(WTP_r[WTP_r[\"Description_type\"]==\"Source-based\"][\"WTP\"].std(), 2)]\n",
    "WTP_table[\"median\"] =  [round(WTP_r[WTP_r[\"Description_type\"]==\"Abstract\"][\"WTP\"].median(), 2), round(WTP_r[WTP_r[\"Description_type\"]==\"Combination\"][\"WTP\"].median(), 2), round(WTP_r[WTP_r[\"Description_type\"]==\"Evaluative\"][\"WTP\"].median(), 2), round(WTP_r[WTP_r[\"Description_type\"]==\"Source-based\"][\"WTP\"].median(), 2)]\n",
    "WTP_table[\"iqr\"] = [round(iqr(WTP_r[WTP_r[\"Description_type\"]==\"Abstract\"][\"WTP\"]), 2),     round(iqr(WTP_r[WTP_r[\"Description_type\"]==\"Combination\"][\"WTP\"]), 2),     round(iqr(WTP_r[WTP_r[\"Description_type\"]==\"Evaluative\"][\"WTP\"]), 2),     round(iqr(WTP_r[WTP_r[\"Description_type\"]==\"Source-based\"][\"WTP\"]), 2)]\n",
    "\n",
    "WTP_table"
   ]
  },
  {
   "cell_type": "markdown",
   "metadata": {},
   "source": [
    "## DTT"
   ]
  },
  {
   "cell_type": "code",
   "execution_count": 10,
   "metadata": {},
   "outputs": [
    {
     "data": {
      "text/html": [
       "<div>\n",
       "<style scoped>\n",
       "    .dataframe tbody tr th:only-of-type {\n",
       "        vertical-align: middle;\n",
       "    }\n",
       "\n",
       "    .dataframe tbody tr th {\n",
       "        vertical-align: top;\n",
       "    }\n",
       "\n",
       "    .dataframe thead th {\n",
       "        text-align: right;\n",
       "    }\n",
       "</style>\n",
       "<table border=\"1\" class=\"dataframe\">\n",
       "  <thead>\n",
       "    <tr style=\"text-align: right;\">\n",
       "      <th></th>\n",
       "      <th>Description type</th>\n",
       "      <th>Variable</th>\n",
       "      <th>n</th>\n",
       "      <th>mean</th>\n",
       "      <th>std</th>\n",
       "      <th>median</th>\n",
       "      <th>iqr</th>\n",
       "    </tr>\n",
       "  </thead>\n",
       "  <tbody>\n",
       "    <tr>\n",
       "      <th>0</th>\n",
       "      <td>Abstract</td>\n",
       "      <td>DTT</td>\n",
       "      <td>40</td>\n",
       "      <td>2.65</td>\n",
       "      <td>0.54</td>\n",
       "      <td>2.6</td>\n",
       "      <td>0.70</td>\n",
       "    </tr>\n",
       "    <tr>\n",
       "      <th>1</th>\n",
       "      <td>Combination</td>\n",
       "      <td>DTT</td>\n",
       "      <td>40</td>\n",
       "      <td>3.12</td>\n",
       "      <td>0.62</td>\n",
       "      <td>3.0</td>\n",
       "      <td>1.00</td>\n",
       "    </tr>\n",
       "    <tr>\n",
       "      <th>2</th>\n",
       "      <td>Evaluative</td>\n",
       "      <td>DTT</td>\n",
       "      <td>40</td>\n",
       "      <td>2.58</td>\n",
       "      <td>0.88</td>\n",
       "      <td>2.3</td>\n",
       "      <td>1.20</td>\n",
       "    </tr>\n",
       "    <tr>\n",
       "      <th>3</th>\n",
       "      <td>Source-based</td>\n",
       "      <td>DTT</td>\n",
       "      <td>40</td>\n",
       "      <td>3.01</td>\n",
       "      <td>0.82</td>\n",
       "      <td>3.0</td>\n",
       "      <td>1.05</td>\n",
       "    </tr>\n",
       "  </tbody>\n",
       "</table>\n",
       "</div>"
      ],
      "text/plain": [
       "  Description type Variable   n  mean   std  median   iqr\n",
       "0         Abstract      DTT  40  2.65  0.54     2.6  0.70\n",
       "1      Combination      DTT  40  3.12  0.62     3.0  1.00\n",
       "2       Evaluative      DTT  40  2.58  0.88     2.3  1.20\n",
       "3     Source-based      DTT  40  3.01  0.82     3.0  1.05"
      ]
     },
     "execution_count": 10,
     "metadata": {},
     "output_type": "execute_result"
    }
   ],
   "source": [
    "DTT_table = pd.DataFrame()\n",
    "    \n",
    "DTT_table[\"Description type\"] = [\"Abstract\", \"Combination\", \"Evaluative\", \"Source-based\"]\n",
    "DTT_table[\"Variable\"] = [\"DTT\"]*4\n",
    "DTT_table[\"n\"]    =      [len(DTT_r[DTT_r[\"Description_type\"]==\"Abstract\"])     ,                 len(DTT_r[DTT_r[\"Description_type\"]==\"Combination\"]),                      len(DTT_r[DTT_r[\"Description_type\"]==\"Evaluative\"]),                      len(DTT_r[DTT_r[\"Description_type\"]==\"Source-based\"])]\n",
    "DTT_table[\"mean\"] =    [round(DTT_r[DTT_r[\"Description_type\"]==\"Abstract\"][\"DTT\"].mean(), 2),   round(DTT_r[DTT_r[\"Description_type\"]==\"Combination\"][\"DTT\"].mean(), 2),   round(DTT_r[DTT_r[\"Description_type\"]==\"Evaluative\"][\"DTT\"].mean(), 2),   round(DTT_r[DTT_r[\"Description_type\"]==\"Source-based\"][\"DTT\"].mean(), 2)]\n",
    "DTT_table[\"std\"] =     [round(DTT_r[DTT_r[\"Description_type\"]==\"Abstract\"][\"DTT\"].std(), 2),    round(DTT_r[DTT_r[\"Description_type\"]==\"Combination\"][\"DTT\"].std(), 2),    round(DTT_r[DTT_r[\"Description_type\"]==\"Evaluative\"][\"DTT\"].std(), 2),    round(DTT_r[DTT_r[\"Description_type\"]==\"Source-based\"][\"DTT\"].std(), 2)]\n",
    "DTT_table[\"median\"] =  [round(DTT_r[DTT_r[\"Description_type\"]==\"Abstract\"][\"DTT\"].median(), 2), round(DTT_r[DTT_r[\"Description_type\"]==\"Combination\"][\"DTT\"].median(), 2), round(DTT_r[DTT_r[\"Description_type\"]==\"Evaluative\"][\"DTT\"].median(), 2), round(DTT_r[DTT_r[\"Description_type\"]==\"Source-based\"][\"DTT\"].median(), 2)]\n",
    "DTT_table[\"iqr\"] = [round(iqr(DTT_r[DTT_r[\"Description_type\"]==\"Abstract\"][\"DTT\"]), 2),     round(iqr(DTT_r[DTT_r[\"Description_type\"]==\"Combination\"][\"DTT\"]), 2),     round(iqr(DTT_r[DTT_r[\"Description_type\"]==\"Evaluative\"][\"DTT\"]), 2),     round(iqr(DTT_r[DTT_r[\"Description_type\"]==\"Source-based\"][\"DTT\"]), 2)]\n",
    "\n",
    "DTT_table"
   ]
  },
  {
   "cell_type": "markdown",
   "metadata": {},
   "source": [
    "## VOI"
   ]
  },
  {
   "cell_type": "code",
   "execution_count": 11,
   "metadata": {},
   "outputs": [
    {
     "data": {
      "text/html": [
       "<div>\n",
       "<style scoped>\n",
       "    .dataframe tbody tr th:only-of-type {\n",
       "        vertical-align: middle;\n",
       "    }\n",
       "\n",
       "    .dataframe tbody tr th {\n",
       "        vertical-align: top;\n",
       "    }\n",
       "\n",
       "    .dataframe thead th {\n",
       "        text-align: right;\n",
       "    }\n",
       "</style>\n",
       "<table border=\"1\" class=\"dataframe\">\n",
       "  <thead>\n",
       "    <tr style=\"text-align: right;\">\n",
       "      <th></th>\n",
       "      <th>Description type</th>\n",
       "      <th>Variable</th>\n",
       "      <th>n</th>\n",
       "      <th>mean</th>\n",
       "      <th>std</th>\n",
       "      <th>median</th>\n",
       "      <th>iqr</th>\n",
       "    </tr>\n",
       "  </thead>\n",
       "  <tbody>\n",
       "    <tr>\n",
       "      <th>0</th>\n",
       "      <td>Abstract</td>\n",
       "      <td>VOI</td>\n",
       "      <td>40</td>\n",
       "      <td>2.84</td>\n",
       "      <td>0.76</td>\n",
       "      <td>2.8</td>\n",
       "      <td>1.00</td>\n",
       "    </tr>\n",
       "    <tr>\n",
       "      <th>1</th>\n",
       "      <td>Combination</td>\n",
       "      <td>VOI</td>\n",
       "      <td>40</td>\n",
       "      <td>3.24</td>\n",
       "      <td>0.69</td>\n",
       "      <td>3.2</td>\n",
       "      <td>0.85</td>\n",
       "    </tr>\n",
       "    <tr>\n",
       "      <th>2</th>\n",
       "      <td>Evaluative</td>\n",
       "      <td>VOI</td>\n",
       "      <td>40</td>\n",
       "      <td>1.98</td>\n",
       "      <td>0.97</td>\n",
       "      <td>1.8</td>\n",
       "      <td>0.65</td>\n",
       "    </tr>\n",
       "    <tr>\n",
       "      <th>3</th>\n",
       "      <td>Source-based</td>\n",
       "      <td>VOI</td>\n",
       "      <td>40</td>\n",
       "      <td>3.50</td>\n",
       "      <td>0.89</td>\n",
       "      <td>3.7</td>\n",
       "      <td>1.40</td>\n",
       "    </tr>\n",
       "  </tbody>\n",
       "</table>\n",
       "</div>"
      ],
      "text/plain": [
       "  Description type Variable   n  mean   std  median   iqr\n",
       "0         Abstract      VOI  40  2.84  0.76     2.8  1.00\n",
       "1      Combination      VOI  40  3.24  0.69     3.2  0.85\n",
       "2       Evaluative      VOI  40  1.98  0.97     1.8  0.65\n",
       "3     Source-based      VOI  40  3.50  0.89     3.7  1.40"
      ]
     },
     "execution_count": 11,
     "metadata": {},
     "output_type": "execute_result"
    }
   ],
   "source": [
    "VOI_table = pd.DataFrame()\n",
    "    \n",
    "VOI_table[\"Description type\"] = [\"Abstract\", \"Combination\", \"Evaluative\", \"Source-based\"]\n",
    "VOI_table[\"Variable\"] = [\"VOI\"]*4\n",
    "VOI_table[\"n\"]    =      [len(VOI_r[VOI_r[\"Description_type\"]==\"Abstract\"])     ,                 len(VOI_r[VOI_r[\"Description_type\"]==\"Combination\"]),                      len(VOI_r[VOI_r[\"Description_type\"]==\"Evaluative\"]),                      len(VOI_r[VOI_r[\"Description_type\"]==\"Source-based\"])]\n",
    "VOI_table[\"mean\"] =    [round(VOI_r[VOI_r[\"Description_type\"]==\"Abstract\"][\"VOI\"].mean(), 2),   round(VOI_r[VOI_r[\"Description_type\"]==\"Combination\"][\"VOI\"].mean(), 2),   round(VOI_r[VOI_r[\"Description_type\"]==\"Evaluative\"][\"VOI\"].mean(), 2),   round(VOI_r[VOI_r[\"Description_type\"]==\"Source-based\"][\"VOI\"].mean(), 2)]\n",
    "VOI_table[\"std\"] =     [round(VOI_r[VOI_r[\"Description_type\"]==\"Abstract\"][\"VOI\"].std(), 2),    round(VOI_r[VOI_r[\"Description_type\"]==\"Combination\"][\"VOI\"].std(), 2),    round(VOI_r[VOI_r[\"Description_type\"]==\"Evaluative\"][\"VOI\"].std(), 2),    round(VOI_r[VOI_r[\"Description_type\"]==\"Source-based\"][\"VOI\"].std(), 2)]\n",
    "VOI_table[\"median\"] =  [round(VOI_r[VOI_r[\"Description_type\"]==\"Abstract\"][\"VOI\"].median(), 2), round(VOI_r[VOI_r[\"Description_type\"]==\"Combination\"][\"VOI\"].median(), 2), round(VOI_r[VOI_r[\"Description_type\"]==\"Evaluative\"][\"VOI\"].median(), 2), round(VOI_r[VOI_r[\"Description_type\"]==\"Source-based\"][\"VOI\"].median(), 2)]\n",
    "VOI_table[\"iqr\"] = [round(iqr(VOI_r[VOI_r[\"Description_type\"]==\"Abstract\"][\"VOI\"]), 2),     round(iqr(VOI_r[VOI_r[\"Description_type\"]==\"Combination\"][\"VOI\"]), 2),     round(iqr(VOI_r[VOI_r[\"Description_type\"]==\"Evaluative\"][\"VOI\"]), 2),     round(iqr(VOI_r[VOI_r[\"Description_type\"]==\"Source-based\"][\"VOI\"]), 2)]\n",
    "\n",
    "VOI_table"
   ]
  },
  {
   "cell_type": "markdown",
   "metadata": {},
   "source": [
    "## All in One"
   ]
  },
  {
   "cell_type": "code",
   "execution_count": 12,
   "metadata": {},
   "outputs": [
    {
     "data": {
      "text/html": [
       "<div>\n",
       "<style scoped>\n",
       "    .dataframe tbody tr th:only-of-type {\n",
       "        vertical-align: middle;\n",
       "    }\n",
       "\n",
       "    .dataframe tbody tr th {\n",
       "        vertical-align: top;\n",
       "    }\n",
       "\n",
       "    .dataframe thead th {\n",
       "        text-align: right;\n",
       "    }\n",
       "</style>\n",
       "<table border=\"1\" class=\"dataframe\">\n",
       "  <thead>\n",
       "    <tr style=\"text-align: right;\">\n",
       "      <th></th>\n",
       "      <th>Description type</th>\n",
       "      <th>Number of Participants</th>\n",
       "      <th>Vividness of Imaginery</th>\n",
       "      <th>Desire to Test</th>\n",
       "      <th>Willingness to Pay</th>\n",
       "    </tr>\n",
       "  </thead>\n",
       "  <tbody>\n",
       "    <tr>\n",
       "      <th>0</th>\n",
       "      <td>Source-based</td>\n",
       "      <td>40</td>\n",
       "      <td>mean = 3.5 (SD = 0.89), Mdn = 3.7</td>\n",
       "      <td>mean = 3.01 (SD = 0.82), Mdn = 3.0</td>\n",
       "      <td>mean = 6.28 (SD = 3.37), Mdn = 5.78</td>\n",
       "    </tr>\n",
       "    <tr>\n",
       "      <th>1</th>\n",
       "      <td>Abstract</td>\n",
       "      <td>40</td>\n",
       "      <td>mean = 2.84 (SD = 0.76), Mdn = 2.8</td>\n",
       "      <td>mean = 2.65 (SD = 0.54), Mdn = 2.6</td>\n",
       "      <td>mean = 5.17 (SD = 2.95), Mdn = 4.37</td>\n",
       "    </tr>\n",
       "    <tr>\n",
       "      <th>2</th>\n",
       "      <td>Evaluative</td>\n",
       "      <td>40</td>\n",
       "      <td>mean = 1.98 (SD = 0.97), Mdn = 1.8</td>\n",
       "      <td>mean = 2.58 (SD = 0.88), Mdn = 2.3</td>\n",
       "      <td>mean = 5.16 (SD = 3.21), Mdn = 4.56</td>\n",
       "    </tr>\n",
       "    <tr>\n",
       "      <th>3</th>\n",
       "      <td>Combination</td>\n",
       "      <td>40</td>\n",
       "      <td>mean = 3.24 (SD = 0.69), Mdn = 3.2</td>\n",
       "      <td>mean = 3.12 (SD = 0.62), Mdn = 3.0</td>\n",
       "      <td>mean = 6.17 (SD = 3.34), Mdn = 5.36</td>\n",
       "    </tr>\n",
       "  </tbody>\n",
       "</table>\n",
       "</div>"
      ],
      "text/plain": [
       "  Description type  Number of Participants  \\\n",
       "0     Source-based                      40   \n",
       "1         Abstract                      40   \n",
       "2       Evaluative                      40   \n",
       "3      Combination                      40   \n",
       "\n",
       "               Vividness of Imaginery                      Desire to Test  \\\n",
       "0   mean = 3.5 (SD = 0.89), Mdn = 3.7  mean = 3.01 (SD = 0.82), Mdn = 3.0   \n",
       "1  mean = 2.84 (SD = 0.76), Mdn = 2.8  mean = 2.65 (SD = 0.54), Mdn = 2.6   \n",
       "2  mean = 1.98 (SD = 0.97), Mdn = 1.8  mean = 2.58 (SD = 0.88), Mdn = 2.3   \n",
       "3  mean = 3.24 (SD = 0.69), Mdn = 3.2  mean = 3.12 (SD = 0.62), Mdn = 3.0   \n",
       "\n",
       "                    Willingness to Pay  \n",
       "0  mean = 6.28 (SD = 3.37), Mdn = 5.78  \n",
       "1  mean = 5.17 (SD = 2.95), Mdn = 4.37  \n",
       "2  mean = 5.16 (SD = 3.21), Mdn = 4.56  \n",
       "3  mean = 6.17 (SD = 3.34), Mdn = 5.36  "
      ]
     },
     "execution_count": 12,
     "metadata": {},
     "output_type": "execute_result"
    }
   ],
   "source": [
    "A_I_O = pd.DataFrame()\n",
    "\n",
    "A_I_O[\"Description type\"] = [\"Source-based\", \"Abstract\", \"Evaluative\", \"Combination\"]\n",
    "A_I_O[\"Number of Participants\"] = [len(VOI_r[VOI_r[\"Description_type\"]==\"Abstract\"])     ,                 len(VOI_r[VOI_r[\"Description_type\"]==\"Combination\"]),                      len(VOI_r[VOI_r[\"Description_type\"]==\"Evaluative\"]),                      len(VOI_r[VOI_r[\"Description_type\"]==\"Source-based\"])]\n",
    "A_I_O[\"Vividness of Imaginery\"] = [f\"mean = {VOI_table['mean'][3]} (SD = {VOI_table['std'][3]}), Mdn = {VOI_table['median'][3]}\", f\"mean = {VOI_table['mean'][0]} (SD = {VOI_table['std'][0]}), Mdn = {VOI_table['median'][0]}\", f\"mean = {VOI_table['mean'][2]} (SD = {VOI_table['std'][2]}), Mdn = {VOI_table['median'][2]}\", f\"mean = {VOI_table['mean'][1]} (SD = {VOI_table['std'][1]}), Mdn = {VOI_table['median'][1]}\"]\n",
    "A_I_O[\"Desire to Test\"] = [f\"mean = {DTT_table['mean'][3]} (SD = {DTT_table['std'][3]}), Mdn = {DTT_table['median'][3]}\", f\"mean = {DTT_table['mean'][0]} (SD = {DTT_table['std'][0]}), Mdn = {DTT_table['median'][0]}\", f\"mean = {DTT_table['mean'][2]} (SD = {DTT_table['std'][2]}), Mdn = {DTT_table['median'][2]}\", f\"mean = {DTT_table['mean'][1]} (SD = {DTT_table['std'][1]}), Mdn = {DTT_table['median'][1]}\"]\n",
    "A_I_O[\"Willingness to Pay\"] = [f\"mean = {WTP_table['mean'][3]} (SD = {WTP_table['std'][3]}), Mdn = {WTP_table['median'][3]}\", f\"mean = {WTP_table['mean'][0]} (SD = {WTP_table['std'][0]}), Mdn = {WTP_table['median'][0]}\", f\"mean = {WTP_table['mean'][2]} (SD = {WTP_table['std'][2]}), Mdn = {WTP_table['median'][2]}\", f\"mean = {WTP_table['mean'][1]} (SD = {WTP_table['std'][1]}), Mdn = {WTP_table['median'][1]}\"]\n",
    "\n",
    "A_I_O\n"
   ]
  },
  {
   "cell_type": "markdown",
   "metadata": {},
   "source": [
    "# ANOVA & Friedman Tests"
   ]
  },
  {
   "cell_type": "markdown",
   "metadata": {},
   "source": [
    "## def Repeated_Anova"
   ]
  },
  {
   "cell_type": "code",
   "execution_count": 13,
   "metadata": {},
   "outputs": [],
   "source": [
    "# formula = 'WTP ~ Description_type + C(Participant)'  # C is used to show that this variable is Categorical (it's just a grouping factor)\n",
    "# rm_anova_model = ols(formula, data=WTP_r).fit()\n",
    "# rm_anova_table = sm.stats.anova_lm(rm_anova_model, typ=3)\n",
    "\n",
    "# # Display the ANOVA table\n",
    "# rm_anova_table\n",
    "\n",
    "def repeated_ANOVA(df, dv, within, subject):\n",
    "\n",
    "    rm_anova_result = pg.rm_anova(data=df, dv=dv, within=within, subject=subject, detailed=True)\n",
    "\n",
    "    # Extract ANOVA table\n",
    "    anova_table = rm_anova_result.round(3)\n",
    "    anova_table = anova_table.drop(['p-spher', 'W-spher', 'sphericity', 'eps', 'ng2', 'p-GG-corr'], axis = 1)\n",
    "    anova_table = anova_table.rename(columns={'p-unc': 'Pr(>F)'})\n",
    "    print(f\"Repeated measure ANOVA for {dv}:\")\n",
    "    \n",
    "    return anova_table"
   ]
  },
  {
   "cell_type": "markdown",
   "metadata": {},
   "source": [
    "## def Repeated_Friedman"
   ]
  },
  {
   "cell_type": "code",
   "execution_count": 14,
   "metadata": {},
   "outputs": [],
   "source": [
    "# friedman_results = pg.friedman(WTP_r, dv='WTP', within='Description_type', subject='Participant')\n",
    "\n",
    "# # Print the results\n",
    "# print(\"Repeated Measures Friedman Test Results:\")\n",
    "# friedman_results\n",
    "\n",
    "def repeated_Friedman(df, dv, within):\n",
    "    statistic, p_value = friedmanchisquare(*[df[df[within] == i][dv].values for i in df[within].unique()])\n",
    "\n",
    "# Organize results into a DataFrame\n",
    "    results = pd.DataFrame({'n': [len(WTP_r['Participant'].unique())], 'Chi-squared statistic': [round(statistic, 2)],'df': [len(WTP_r['Description_type'].unique()) - 1] , 'P-value': [round(p_value, 4)]})\n",
    "    print(f\"Repeated measure Friedman Test Results for {dv}:\")\n",
    "    \n",
    "    return results"
   ]
  },
  {
   "cell_type": "markdown",
   "metadata": {},
   "source": [
    "## VOI"
   ]
  },
  {
   "cell_type": "markdown",
   "metadata": {},
   "source": [
    "### Anova"
   ]
  },
  {
   "cell_type": "code",
   "execution_count": 15,
   "metadata": {},
   "outputs": [
    {
     "name": "stdout",
     "output_type": "stream",
     "text": [
      "Repeated measure ANOVA for VOI:\n"
     ]
    },
    {
     "data": {
      "text/html": [
       "<div>\n",
       "<style scoped>\n",
       "    .dataframe tbody tr th:only-of-type {\n",
       "        vertical-align: middle;\n",
       "    }\n",
       "\n",
       "    .dataframe tbody tr th {\n",
       "        vertical-align: top;\n",
       "    }\n",
       "\n",
       "    .dataframe thead th {\n",
       "        text-align: right;\n",
       "    }\n",
       "</style>\n",
       "<table border=\"1\" class=\"dataframe\">\n",
       "  <thead>\n",
       "    <tr style=\"text-align: right;\">\n",
       "      <th></th>\n",
       "      <th>Source</th>\n",
       "      <th>SS</th>\n",
       "      <th>DF</th>\n",
       "      <th>MS</th>\n",
       "      <th>F</th>\n",
       "      <th>Pr(&gt;F)</th>\n",
       "    </tr>\n",
       "  </thead>\n",
       "  <tbody>\n",
       "    <tr>\n",
       "      <th>0</th>\n",
       "      <td>Description_type</td>\n",
       "      <td>53.029</td>\n",
       "      <td>3</td>\n",
       "      <td>17.676</td>\n",
       "      <td>45.794</td>\n",
       "      <td>0.0</td>\n",
       "    </tr>\n",
       "    <tr>\n",
       "      <th>1</th>\n",
       "      <td>Error</td>\n",
       "      <td>45.161</td>\n",
       "      <td>117</td>\n",
       "      <td>0.386</td>\n",
       "      <td>NaN</td>\n",
       "      <td>NaN</td>\n",
       "    </tr>\n",
       "  </tbody>\n",
       "</table>\n",
       "</div>"
      ],
      "text/plain": [
       "             Source      SS   DF      MS       F  Pr(>F)\n",
       "0  Description_type  53.029    3  17.676  45.794     0.0\n",
       "1             Error  45.161  117   0.386     NaN     NaN"
      ]
     },
     "execution_count": 15,
     "metadata": {},
     "output_type": "execute_result"
    }
   ],
   "source": [
    "repeated_ANOVA(df = VOI_r, dv='VOI', within='Description_type', subject='Participant')"
   ]
  },
  {
   "cell_type": "markdown",
   "metadata": {},
   "source": [
    "### Friedman"
   ]
  },
  {
   "cell_type": "code",
   "execution_count": 16,
   "metadata": {},
   "outputs": [
    {
     "name": "stdout",
     "output_type": "stream",
     "text": [
      "Repeated measure Friedman Test Results for VOI:\n"
     ]
    },
    {
     "data": {
      "text/html": [
       "<div>\n",
       "<style scoped>\n",
       "    .dataframe tbody tr th:only-of-type {\n",
       "        vertical-align: middle;\n",
       "    }\n",
       "\n",
       "    .dataframe tbody tr th {\n",
       "        vertical-align: top;\n",
       "    }\n",
       "\n",
       "    .dataframe thead th {\n",
       "        text-align: right;\n",
       "    }\n",
       "</style>\n",
       "<table border=\"1\" class=\"dataframe\">\n",
       "  <thead>\n",
       "    <tr style=\"text-align: right;\">\n",
       "      <th></th>\n",
       "      <th>n</th>\n",
       "      <th>Chi-squared statistic</th>\n",
       "      <th>df</th>\n",
       "      <th>P-value</th>\n",
       "    </tr>\n",
       "  </thead>\n",
       "  <tbody>\n",
       "    <tr>\n",
       "      <th>0</th>\n",
       "      <td>40</td>\n",
       "      <td>56.98</td>\n",
       "      <td>3</td>\n",
       "      <td>0.0</td>\n",
       "    </tr>\n",
       "  </tbody>\n",
       "</table>\n",
       "</div>"
      ],
      "text/plain": [
       "    n  Chi-squared statistic  df  P-value\n",
       "0  40                  56.98   3      0.0"
      ]
     },
     "execution_count": 16,
     "metadata": {},
     "output_type": "execute_result"
    }
   ],
   "source": [
    "repeated_Friedman(df = VOI_r, dv = 'VOI', within = 'Description_type')"
   ]
  },
  {
   "cell_type": "markdown",
   "metadata": {},
   "source": [
    "## DTT"
   ]
  },
  {
   "cell_type": "markdown",
   "metadata": {},
   "source": [
    "### Anova"
   ]
  },
  {
   "cell_type": "code",
   "execution_count": 17,
   "metadata": {},
   "outputs": [
    {
     "name": "stdout",
     "output_type": "stream",
     "text": [
      "Repeated measure ANOVA for DTT:\n"
     ]
    },
    {
     "data": {
      "text/html": [
       "<div>\n",
       "<style scoped>\n",
       "    .dataframe tbody tr th:only-of-type {\n",
       "        vertical-align: middle;\n",
       "    }\n",
       "\n",
       "    .dataframe tbody tr th {\n",
       "        vertical-align: top;\n",
       "    }\n",
       "\n",
       "    .dataframe thead th {\n",
       "        text-align: right;\n",
       "    }\n",
       "</style>\n",
       "<table border=\"1\" class=\"dataframe\">\n",
       "  <thead>\n",
       "    <tr style=\"text-align: right;\">\n",
       "      <th></th>\n",
       "      <th>Source</th>\n",
       "      <th>SS</th>\n",
       "      <th>DF</th>\n",
       "      <th>MS</th>\n",
       "      <th>F</th>\n",
       "      <th>Pr(&gt;F)</th>\n",
       "    </tr>\n",
       "  </thead>\n",
       "  <tbody>\n",
       "    <tr>\n",
       "      <th>0</th>\n",
       "      <td>Description_type</td>\n",
       "      <td>8.329</td>\n",
       "      <td>3</td>\n",
       "      <td>2.776</td>\n",
       "      <td>8.634</td>\n",
       "      <td>0.0</td>\n",
       "    </tr>\n",
       "    <tr>\n",
       "      <th>1</th>\n",
       "      <td>Error</td>\n",
       "      <td>37.621</td>\n",
       "      <td>117</td>\n",
       "      <td>0.322</td>\n",
       "      <td>NaN</td>\n",
       "      <td>NaN</td>\n",
       "    </tr>\n",
       "  </tbody>\n",
       "</table>\n",
       "</div>"
      ],
      "text/plain": [
       "             Source      SS   DF     MS      F  Pr(>F)\n",
       "0  Description_type   8.329    3  2.776  8.634     0.0\n",
       "1             Error  37.621  117  0.322    NaN     NaN"
      ]
     },
     "execution_count": 17,
     "metadata": {},
     "output_type": "execute_result"
    }
   ],
   "source": [
    "repeated_ANOVA(df=DTT_r, dv='DTT', within='Description_type', subject='Participant')"
   ]
  },
  {
   "cell_type": "markdown",
   "metadata": {},
   "source": [
    "### Friedman"
   ]
  },
  {
   "cell_type": "code",
   "execution_count": 18,
   "metadata": {},
   "outputs": [
    {
     "name": "stdout",
     "output_type": "stream",
     "text": [
      "Repeated measure Friedman Test Results for DTT:\n"
     ]
    },
    {
     "data": {
      "text/html": [
       "<div>\n",
       "<style scoped>\n",
       "    .dataframe tbody tr th:only-of-type {\n",
       "        vertical-align: middle;\n",
       "    }\n",
       "\n",
       "    .dataframe tbody tr th {\n",
       "        vertical-align: top;\n",
       "    }\n",
       "\n",
       "    .dataframe thead th {\n",
       "        text-align: right;\n",
       "    }\n",
       "</style>\n",
       "<table border=\"1\" class=\"dataframe\">\n",
       "  <thead>\n",
       "    <tr style=\"text-align: right;\">\n",
       "      <th></th>\n",
       "      <th>n</th>\n",
       "      <th>Chi-squared statistic</th>\n",
       "      <th>df</th>\n",
       "      <th>P-value</th>\n",
       "    </tr>\n",
       "  </thead>\n",
       "  <tbody>\n",
       "    <tr>\n",
       "      <th>0</th>\n",
       "      <td>40</td>\n",
       "      <td>26.52</td>\n",
       "      <td>3</td>\n",
       "      <td>0.0</td>\n",
       "    </tr>\n",
       "  </tbody>\n",
       "</table>\n",
       "</div>"
      ],
      "text/plain": [
       "    n  Chi-squared statistic  df  P-value\n",
       "0  40                  26.52   3      0.0"
      ]
     },
     "execution_count": 18,
     "metadata": {},
     "output_type": "execute_result"
    }
   ],
   "source": [
    "repeated_Friedman(df = DTT_r, dv = 'DTT', within = 'Description_type')"
   ]
  },
  {
   "cell_type": "markdown",
   "metadata": {},
   "source": [
    "## WTP"
   ]
  },
  {
   "cell_type": "markdown",
   "metadata": {},
   "source": [
    "### Anova"
   ]
  },
  {
   "cell_type": "code",
   "execution_count": 19,
   "metadata": {},
   "outputs": [
    {
     "name": "stdout",
     "output_type": "stream",
     "text": [
      "Repeated measure ANOVA for WTP:\n"
     ]
    },
    {
     "data": {
      "text/html": [
       "<div>\n",
       "<style scoped>\n",
       "    .dataframe tbody tr th:only-of-type {\n",
       "        vertical-align: middle;\n",
       "    }\n",
       "\n",
       "    .dataframe tbody tr th {\n",
       "        vertical-align: top;\n",
       "    }\n",
       "\n",
       "    .dataframe thead th {\n",
       "        text-align: right;\n",
       "    }\n",
       "</style>\n",
       "<table border=\"1\" class=\"dataframe\">\n",
       "  <thead>\n",
       "    <tr style=\"text-align: right;\">\n",
       "      <th></th>\n",
       "      <th>Source</th>\n",
       "      <th>SS</th>\n",
       "      <th>DF</th>\n",
       "      <th>MS</th>\n",
       "      <th>F</th>\n",
       "      <th>Pr(&gt;F)</th>\n",
       "    </tr>\n",
       "  </thead>\n",
       "  <tbody>\n",
       "    <tr>\n",
       "      <th>0</th>\n",
       "      <td>Description_type</td>\n",
       "      <td>45.738</td>\n",
       "      <td>3</td>\n",
       "      <td>15.246</td>\n",
       "      <td>11.219</td>\n",
       "      <td>0.0</td>\n",
       "    </tr>\n",
       "    <tr>\n",
       "      <th>1</th>\n",
       "      <td>Error</td>\n",
       "      <td>158.993</td>\n",
       "      <td>117</td>\n",
       "      <td>1.359</td>\n",
       "      <td>NaN</td>\n",
       "      <td>NaN</td>\n",
       "    </tr>\n",
       "  </tbody>\n",
       "</table>\n",
       "</div>"
      ],
      "text/plain": [
       "             Source       SS   DF      MS       F  Pr(>F)\n",
       "0  Description_type   45.738    3  15.246  11.219     0.0\n",
       "1             Error  158.993  117   1.359     NaN     NaN"
      ]
     },
     "execution_count": 19,
     "metadata": {},
     "output_type": "execute_result"
    }
   ],
   "source": [
    "repeated_ANOVA(df=WTP_r, dv='WTP', within='Description_type', subject='Participant')"
   ]
  },
  {
   "cell_type": "markdown",
   "metadata": {},
   "source": [
    "### Friedman"
   ]
  },
  {
   "cell_type": "code",
   "execution_count": 20,
   "metadata": {},
   "outputs": [
    {
     "name": "stdout",
     "output_type": "stream",
     "text": [
      "Repeated measure Friedman Test Results for WTP:\n"
     ]
    },
    {
     "data": {
      "text/html": [
       "<div>\n",
       "<style scoped>\n",
       "    .dataframe tbody tr th:only-of-type {\n",
       "        vertical-align: middle;\n",
       "    }\n",
       "\n",
       "    .dataframe tbody tr th {\n",
       "        vertical-align: top;\n",
       "    }\n",
       "\n",
       "    .dataframe thead th {\n",
       "        text-align: right;\n",
       "    }\n",
       "</style>\n",
       "<table border=\"1\" class=\"dataframe\">\n",
       "  <thead>\n",
       "    <tr style=\"text-align: right;\">\n",
       "      <th></th>\n",
       "      <th>n</th>\n",
       "      <th>Chi-squared statistic</th>\n",
       "      <th>df</th>\n",
       "      <th>P-value</th>\n",
       "    </tr>\n",
       "  </thead>\n",
       "  <tbody>\n",
       "    <tr>\n",
       "      <th>0</th>\n",
       "      <td>40</td>\n",
       "      <td>31.03</td>\n",
       "      <td>3</td>\n",
       "      <td>0.0</td>\n",
       "    </tr>\n",
       "  </tbody>\n",
       "</table>\n",
       "</div>"
      ],
      "text/plain": [
       "    n  Chi-squared statistic  df  P-value\n",
       "0  40                  31.03   3      0.0"
      ]
     },
     "execution_count": 20,
     "metadata": {},
     "output_type": "execute_result"
    }
   ],
   "source": [
    "repeated_Friedman(df = WTP_r, dv = 'WTP', within = 'Description_type')"
   ]
  },
  {
   "cell_type": "markdown",
   "metadata": {},
   "source": [
    "# Post-hoks"
   ]
  },
  {
   "cell_type": "markdown",
   "metadata": {},
   "source": [
    "## define function for Parametric (t-test Based on Bonferroni)"
   ]
  },
  {
   "cell_type": "code",
   "execution_count": 21,
   "metadata": {},
   "outputs": [],
   "source": [
    "def pairwise_ttests_bonferroni(df, dv, within, alpha):\n",
    "    groups = df[within].unique()\n",
    "    comparisons = [(i, j) for i in range(len(groups)) for j in range(i + 1, len(groups))]\n",
    "    \n",
    "    results = []\n",
    "    for i, j in comparisons:\n",
    "        group_i = groups[i]\n",
    "        group_j = groups[j]\n",
    "        \n",
    "        subset_i = df[df[within] == group_i][dv]\n",
    "        subset_j = df[df[within] == group_j][dv]\n",
    "        \n",
    "        _, p_value = ttest_rel(subset_i, subset_j)\n",
    "        \n",
    "        results.append({\n",
    "            'Group 1': group_i,\n",
    "            'Group 2': group_j,\n",
    "            'P-value': round(p_value,4)\n",
    "        })\n",
    "    \n",
    "    # Bonferroni correction\n",
    "    p_values = [result['P-value'] for result in results]\n",
    "    rejected, _, _, _ = multipletests(p_values, method='bonferroni', alpha=alpha)\n",
    "    \n",
    "    for result, rej in zip(results, rejected):\n",
    "        result['Bonferroni Corrected'] = rej\n",
    "    \n",
    "    print(f\"Pairwise t-Test Results with Bonferroni Correction for {dv}:\")\n",
    "\n",
    "    return pd.DataFrame(results)"
   ]
  },
  {
   "cell_type": "markdown",
   "metadata": {},
   "source": [
    "## define function for non-Parametric wilcox pairwise tests"
   ]
  },
  {
   "cell_type": "code",
   "execution_count": 22,
   "metadata": {},
   "outputs": [],
   "source": [
    "# Define a function for pairwise Wilcoxon signed-rank tests with Bonferroni correction\n",
    "def pairwise_wilcoxon_bonferroni(df, dv, within, alpha):\n",
    "    groups = df[within].unique()\n",
    "    comparisons = [(i, j) for i in range(len(groups)) for j in range(i + 1, len(groups))]\n",
    "    \n",
    "    results = []\n",
    "    for i, j in comparisons:\n",
    "        group_i = groups[i]\n",
    "        group_j = groups[j]\n",
    "        \n",
    "        subset_i = df[df[within] == group_i][dv]\n",
    "        subset_j = df[df[within] == group_j][dv]\n",
    "        \n",
    "        _, p_value = wilcoxon(subset_i, subset_j)\n",
    "        \n",
    "        results.append({\n",
    "            'Group 1': group_i,\n",
    "            'Group 2': group_j,\n",
    "            'P-value': round(p_value, 4)\n",
    "        })\n",
    "    \n",
    "    # Bonferroni correction\n",
    "    p_values = [result['P-value'] for result in results]\n",
    "    rejected, _, _, _ = multipletests(p_values, method='bonferroni', alpha = alpha)\n",
    "    \n",
    "    for result, rej in zip(results, rejected):\n",
    "        result['Bonferroni Corrected'] = rej\n",
    "    print(f\"Pairwise Wilcoxon Signed-Rank Test Results with Bonferroni Correction for {dv}:\")\n",
    "\n",
    "    return pd.DataFrame(results)"
   ]
  },
  {
   "cell_type": "markdown",
   "metadata": {},
   "source": [
    "## VOI:"
   ]
  },
  {
   "cell_type": "markdown",
   "metadata": {},
   "source": [
    "### Parametric"
   ]
  },
  {
   "cell_type": "code",
   "execution_count": 23,
   "metadata": {},
   "outputs": [
    {
     "name": "stdout",
     "output_type": "stream",
     "text": [
      "Pairwise t-Test Results with Bonferroni Correction for VOI:\n"
     ]
    },
    {
     "data": {
      "text/html": [
       "<div>\n",
       "<style scoped>\n",
       "    .dataframe tbody tr th:only-of-type {\n",
       "        vertical-align: middle;\n",
       "    }\n",
       "\n",
       "    .dataframe tbody tr th {\n",
       "        vertical-align: top;\n",
       "    }\n",
       "\n",
       "    .dataframe thead th {\n",
       "        text-align: right;\n",
       "    }\n",
       "</style>\n",
       "<table border=\"1\" class=\"dataframe\">\n",
       "  <thead>\n",
       "    <tr style=\"text-align: right;\">\n",
       "      <th></th>\n",
       "      <th>Group 1</th>\n",
       "      <th>Group 2</th>\n",
       "      <th>P-value</th>\n",
       "      <th>Bonferroni Corrected</th>\n",
       "    </tr>\n",
       "  </thead>\n",
       "  <tbody>\n",
       "    <tr>\n",
       "      <th>0</th>\n",
       "      <td>Abstract</td>\n",
       "      <td>Combination</td>\n",
       "      <td>0.0003</td>\n",
       "      <td>True</td>\n",
       "    </tr>\n",
       "    <tr>\n",
       "      <th>1</th>\n",
       "      <td>Abstract</td>\n",
       "      <td>Evaluative</td>\n",
       "      <td>0.0000</td>\n",
       "      <td>True</td>\n",
       "    </tr>\n",
       "    <tr>\n",
       "      <th>2</th>\n",
       "      <td>Abstract</td>\n",
       "      <td>Source-based</td>\n",
       "      <td>0.0001</td>\n",
       "      <td>True</td>\n",
       "    </tr>\n",
       "    <tr>\n",
       "      <th>3</th>\n",
       "      <td>Combination</td>\n",
       "      <td>Evaluative</td>\n",
       "      <td>0.0000</td>\n",
       "      <td>True</td>\n",
       "    </tr>\n",
       "    <tr>\n",
       "      <th>4</th>\n",
       "      <td>Combination</td>\n",
       "      <td>Source-based</td>\n",
       "      <td>0.0123</td>\n",
       "      <td>False</td>\n",
       "    </tr>\n",
       "    <tr>\n",
       "      <th>5</th>\n",
       "      <td>Evaluative</td>\n",
       "      <td>Source-based</td>\n",
       "      <td>0.0000</td>\n",
       "      <td>True</td>\n",
       "    </tr>\n",
       "  </tbody>\n",
       "</table>\n",
       "</div>"
      ],
      "text/plain": [
       "       Group 1       Group 2  P-value  Bonferroni Corrected\n",
       "0     Abstract   Combination   0.0003                  True\n",
       "1     Abstract    Evaluative   0.0000                  True\n",
       "2     Abstract  Source-based   0.0001                  True\n",
       "3  Combination    Evaluative   0.0000                  True\n",
       "4  Combination  Source-based   0.0123                 False\n",
       "5   Evaluative  Source-based   0.0000                  True"
      ]
     },
     "execution_count": 23,
     "metadata": {},
     "output_type": "execute_result"
    }
   ],
   "source": [
    "pairwise_ttests_bonferroni(VOI_r, dv='VOI', within='Description_type', alpha = 0.05) \n",
    "# corrected alpha = (alhpa/2) / (2*m) = 0.008   (m = Choosing 2 out of 4)"
   ]
  },
  {
   "cell_type": "markdown",
   "metadata": {},
   "source": [
    "### Non_parametric"
   ]
  },
  {
   "cell_type": "code",
   "execution_count": 24,
   "metadata": {},
   "outputs": [
    {
     "name": "stdout",
     "output_type": "stream",
     "text": [
      "Pairwise Wilcoxon Signed-Rank Test Results with Bonferroni Correction for VOI:\n"
     ]
    },
    {
     "data": {
      "text/html": [
       "<div>\n",
       "<style scoped>\n",
       "    .dataframe tbody tr th:only-of-type {\n",
       "        vertical-align: middle;\n",
       "    }\n",
       "\n",
       "    .dataframe tbody tr th {\n",
       "        vertical-align: top;\n",
       "    }\n",
       "\n",
       "    .dataframe thead th {\n",
       "        text-align: right;\n",
       "    }\n",
       "</style>\n",
       "<table border=\"1\" class=\"dataframe\">\n",
       "  <thead>\n",
       "    <tr style=\"text-align: right;\">\n",
       "      <th></th>\n",
       "      <th>Group 1</th>\n",
       "      <th>Group 2</th>\n",
       "      <th>P-value</th>\n",
       "      <th>Bonferroni Corrected</th>\n",
       "    </tr>\n",
       "  </thead>\n",
       "  <tbody>\n",
       "    <tr>\n",
       "      <th>0</th>\n",
       "      <td>Abstract</td>\n",
       "      <td>Combination</td>\n",
       "      <td>0.0004</td>\n",
       "      <td>True</td>\n",
       "    </tr>\n",
       "    <tr>\n",
       "      <th>1</th>\n",
       "      <td>Abstract</td>\n",
       "      <td>Evaluative</td>\n",
       "      <td>0.0000</td>\n",
       "      <td>True</td>\n",
       "    </tr>\n",
       "    <tr>\n",
       "      <th>2</th>\n",
       "      <td>Abstract</td>\n",
       "      <td>Source-based</td>\n",
       "      <td>0.0002</td>\n",
       "      <td>True</td>\n",
       "    </tr>\n",
       "    <tr>\n",
       "      <th>3</th>\n",
       "      <td>Combination</td>\n",
       "      <td>Evaluative</td>\n",
       "      <td>0.0000</td>\n",
       "      <td>True</td>\n",
       "    </tr>\n",
       "    <tr>\n",
       "      <th>4</th>\n",
       "      <td>Combination</td>\n",
       "      <td>Source-based</td>\n",
       "      <td>0.0186</td>\n",
       "      <td>False</td>\n",
       "    </tr>\n",
       "    <tr>\n",
       "      <th>5</th>\n",
       "      <td>Evaluative</td>\n",
       "      <td>Source-based</td>\n",
       "      <td>0.0000</td>\n",
       "      <td>True</td>\n",
       "    </tr>\n",
       "  </tbody>\n",
       "</table>\n",
       "</div>"
      ],
      "text/plain": [
       "       Group 1       Group 2  P-value  Bonferroni Corrected\n",
       "0     Abstract   Combination   0.0004                  True\n",
       "1     Abstract    Evaluative   0.0000                  True\n",
       "2     Abstract  Source-based   0.0002                  True\n",
       "3  Combination    Evaluative   0.0000                  True\n",
       "4  Combination  Source-based   0.0186                 False\n",
       "5   Evaluative  Source-based   0.0000                  True"
      ]
     },
     "execution_count": 24,
     "metadata": {},
     "output_type": "execute_result"
    }
   ],
   "source": [
    "pairwise_wilcoxon_bonferroni(VOI_r, dv='VOI', within='Description_type', alpha = 0.05)\n",
    "# corrected alpha = alhpa / 6 = 0.008"
   ]
  },
  {
   "cell_type": "markdown",
   "metadata": {},
   "source": [
    "## DTT:"
   ]
  },
  {
   "cell_type": "markdown",
   "metadata": {},
   "source": [
    "### Parametric"
   ]
  },
  {
   "cell_type": "code",
   "execution_count": 25,
   "metadata": {},
   "outputs": [
    {
     "name": "stdout",
     "output_type": "stream",
     "text": [
      "Pairwise t-Test Results with Bonferroni Correction for DTT:\n"
     ]
    },
    {
     "data": {
      "text/html": [
       "<div>\n",
       "<style scoped>\n",
       "    .dataframe tbody tr th:only-of-type {\n",
       "        vertical-align: middle;\n",
       "    }\n",
       "\n",
       "    .dataframe tbody tr th {\n",
       "        vertical-align: top;\n",
       "    }\n",
       "\n",
       "    .dataframe thead th {\n",
       "        text-align: right;\n",
       "    }\n",
       "</style>\n",
       "<table border=\"1\" class=\"dataframe\">\n",
       "  <thead>\n",
       "    <tr style=\"text-align: right;\">\n",
       "      <th></th>\n",
       "      <th>Group 1</th>\n",
       "      <th>Group 2</th>\n",
       "      <th>P-value</th>\n",
       "      <th>Bonferroni Corrected</th>\n",
       "    </tr>\n",
       "  </thead>\n",
       "  <tbody>\n",
       "    <tr>\n",
       "      <th>0</th>\n",
       "      <td>Abstract</td>\n",
       "      <td>Combination</td>\n",
       "      <td>0.0000</td>\n",
       "      <td>True</td>\n",
       "    </tr>\n",
       "    <tr>\n",
       "      <th>1</th>\n",
       "      <td>Abstract</td>\n",
       "      <td>Evaluative</td>\n",
       "      <td>0.5649</td>\n",
       "      <td>False</td>\n",
       "    </tr>\n",
       "    <tr>\n",
       "      <th>2</th>\n",
       "      <td>Abstract</td>\n",
       "      <td>Source-based</td>\n",
       "      <td>0.0070</td>\n",
       "      <td>True</td>\n",
       "    </tr>\n",
       "    <tr>\n",
       "      <th>3</th>\n",
       "      <td>Combination</td>\n",
       "      <td>Evaluative</td>\n",
       "      <td>0.0003</td>\n",
       "      <td>True</td>\n",
       "    </tr>\n",
       "    <tr>\n",
       "      <th>4</th>\n",
       "      <td>Combination</td>\n",
       "      <td>Source-based</td>\n",
       "      <td>0.2060</td>\n",
       "      <td>False</td>\n",
       "    </tr>\n",
       "    <tr>\n",
       "      <th>5</th>\n",
       "      <td>Evaluative</td>\n",
       "      <td>Source-based</td>\n",
       "      <td>0.0210</td>\n",
       "      <td>False</td>\n",
       "    </tr>\n",
       "  </tbody>\n",
       "</table>\n",
       "</div>"
      ],
      "text/plain": [
       "       Group 1       Group 2  P-value  Bonferroni Corrected\n",
       "0     Abstract   Combination   0.0000                  True\n",
       "1     Abstract    Evaluative   0.5649                 False\n",
       "2     Abstract  Source-based   0.0070                  True\n",
       "3  Combination    Evaluative   0.0003                  True\n",
       "4  Combination  Source-based   0.2060                 False\n",
       "5   Evaluative  Source-based   0.0210                 False"
      ]
     },
     "execution_count": 25,
     "metadata": {},
     "output_type": "execute_result"
    }
   ],
   "source": [
    "pairwise_ttests_bonferroni(DTT_r, dv='DTT', within='Description_type', alpha = 0.05)\n",
    "# corrected alpha = alhpa / 6 = 0.008"
   ]
  },
  {
   "cell_type": "markdown",
   "metadata": {},
   "source": [
    "### Non_parametric"
   ]
  },
  {
   "cell_type": "code",
   "execution_count": 26,
   "metadata": {},
   "outputs": [
    {
     "name": "stdout",
     "output_type": "stream",
     "text": [
      "Pairwise Wilcoxon Signed-Rank Test Results with Bonferroni Correction for DTT:\n"
     ]
    },
    {
     "data": {
      "text/html": [
       "<div>\n",
       "<style scoped>\n",
       "    .dataframe tbody tr th:only-of-type {\n",
       "        vertical-align: middle;\n",
       "    }\n",
       "\n",
       "    .dataframe tbody tr th {\n",
       "        vertical-align: top;\n",
       "    }\n",
       "\n",
       "    .dataframe thead th {\n",
       "        text-align: right;\n",
       "    }\n",
       "</style>\n",
       "<table border=\"1\" class=\"dataframe\">\n",
       "  <thead>\n",
       "    <tr style=\"text-align: right;\">\n",
       "      <th></th>\n",
       "      <th>Group 1</th>\n",
       "      <th>Group 2</th>\n",
       "      <th>P-value</th>\n",
       "      <th>Bonferroni Corrected</th>\n",
       "    </tr>\n",
       "  </thead>\n",
       "  <tbody>\n",
       "    <tr>\n",
       "      <th>0</th>\n",
       "      <td>Abstract</td>\n",
       "      <td>Combination</td>\n",
       "      <td>0.0001</td>\n",
       "      <td>True</td>\n",
       "    </tr>\n",
       "    <tr>\n",
       "      <th>1</th>\n",
       "      <td>Abstract</td>\n",
       "      <td>Evaluative</td>\n",
       "      <td>0.4504</td>\n",
       "      <td>False</td>\n",
       "    </tr>\n",
       "    <tr>\n",
       "      <th>2</th>\n",
       "      <td>Abstract</td>\n",
       "      <td>Source-based</td>\n",
       "      <td>0.0072</td>\n",
       "      <td>True</td>\n",
       "    </tr>\n",
       "    <tr>\n",
       "      <th>3</th>\n",
       "      <td>Combination</td>\n",
       "      <td>Evaluative</td>\n",
       "      <td>0.0008</td>\n",
       "      <td>True</td>\n",
       "    </tr>\n",
       "    <tr>\n",
       "      <th>4</th>\n",
       "      <td>Combination</td>\n",
       "      <td>Source-based</td>\n",
       "      <td>0.2843</td>\n",
       "      <td>False</td>\n",
       "    </tr>\n",
       "    <tr>\n",
       "      <th>5</th>\n",
       "      <td>Evaluative</td>\n",
       "      <td>Source-based</td>\n",
       "      <td>0.0192</td>\n",
       "      <td>False</td>\n",
       "    </tr>\n",
       "  </tbody>\n",
       "</table>\n",
       "</div>"
      ],
      "text/plain": [
       "       Group 1       Group 2  P-value  Bonferroni Corrected\n",
       "0     Abstract   Combination   0.0001                  True\n",
       "1     Abstract    Evaluative   0.4504                 False\n",
       "2     Abstract  Source-based   0.0072                  True\n",
       "3  Combination    Evaluative   0.0008                  True\n",
       "4  Combination  Source-based   0.2843                 False\n",
       "5   Evaluative  Source-based   0.0192                 False"
      ]
     },
     "execution_count": 26,
     "metadata": {},
     "output_type": "execute_result"
    }
   ],
   "source": [
    "pairwise_wilcoxon_bonferroni(DTT_r, dv='DTT', within='Description_type', alpha = 0.05)\n",
    "# corrected alpha = alhpa / 6 = 0.008"
   ]
  },
  {
   "cell_type": "markdown",
   "metadata": {},
   "source": [
    "## WTP:"
   ]
  },
  {
   "cell_type": "markdown",
   "metadata": {},
   "source": [
    "### Parametric"
   ]
  },
  {
   "cell_type": "code",
   "execution_count": 27,
   "metadata": {},
   "outputs": [
    {
     "name": "stdout",
     "output_type": "stream",
     "text": [
      "Pairwise t-Test Results with Bonferroni Correction for WTP:\n"
     ]
    },
    {
     "data": {
      "text/html": [
       "<div>\n",
       "<style scoped>\n",
       "    .dataframe tbody tr th:only-of-type {\n",
       "        vertical-align: middle;\n",
       "    }\n",
       "\n",
       "    .dataframe tbody tr th {\n",
       "        vertical-align: top;\n",
       "    }\n",
       "\n",
       "    .dataframe thead th {\n",
       "        text-align: right;\n",
       "    }\n",
       "</style>\n",
       "<table border=\"1\" class=\"dataframe\">\n",
       "  <thead>\n",
       "    <tr style=\"text-align: right;\">\n",
       "      <th></th>\n",
       "      <th>Group 1</th>\n",
       "      <th>Group 2</th>\n",
       "      <th>P-value</th>\n",
       "      <th>Bonferroni Corrected</th>\n",
       "    </tr>\n",
       "  </thead>\n",
       "  <tbody>\n",
       "    <tr>\n",
       "      <th>0</th>\n",
       "      <td>Abstract</td>\n",
       "      <td>Combination</td>\n",
       "      <td>0.0000</td>\n",
       "      <td>True</td>\n",
       "    </tr>\n",
       "    <tr>\n",
       "      <th>1</th>\n",
       "      <td>Abstract</td>\n",
       "      <td>Evaluative</td>\n",
       "      <td>0.9626</td>\n",
       "      <td>False</td>\n",
       "    </tr>\n",
       "    <tr>\n",
       "      <th>2</th>\n",
       "      <td>Abstract</td>\n",
       "      <td>Source-based</td>\n",
       "      <td>0.0001</td>\n",
       "      <td>True</td>\n",
       "    </tr>\n",
       "    <tr>\n",
       "      <th>3</th>\n",
       "      <td>Combination</td>\n",
       "      <td>Evaluative</td>\n",
       "      <td>0.0011</td>\n",
       "      <td>True</td>\n",
       "    </tr>\n",
       "    <tr>\n",
       "      <th>4</th>\n",
       "      <td>Combination</td>\n",
       "      <td>Source-based</td>\n",
       "      <td>0.5127</td>\n",
       "      <td>False</td>\n",
       "    </tr>\n",
       "    <tr>\n",
       "      <th>5</th>\n",
       "      <td>Evaluative</td>\n",
       "      <td>Source-based</td>\n",
       "      <td>0.0035</td>\n",
       "      <td>True</td>\n",
       "    </tr>\n",
       "  </tbody>\n",
       "</table>\n",
       "</div>"
      ],
      "text/plain": [
       "       Group 1       Group 2  P-value  Bonferroni Corrected\n",
       "0     Abstract   Combination   0.0000                  True\n",
       "1     Abstract    Evaluative   0.9626                 False\n",
       "2     Abstract  Source-based   0.0001                  True\n",
       "3  Combination    Evaluative   0.0011                  True\n",
       "4  Combination  Source-based   0.5127                 False\n",
       "5   Evaluative  Source-based   0.0035                  True"
      ]
     },
     "execution_count": 27,
     "metadata": {},
     "output_type": "execute_result"
    }
   ],
   "source": [
    "pairwise_ttests_bonferroni(WTP_r, dv='WTP', within='Description_type', alpha = 0.05)"
   ]
  },
  {
   "cell_type": "markdown",
   "metadata": {},
   "source": [
    "### Non_parametric"
   ]
  },
  {
   "cell_type": "code",
   "execution_count": 28,
   "metadata": {},
   "outputs": [
    {
     "name": "stdout",
     "output_type": "stream",
     "text": [
      "Pairwise Wilcoxon Signed-Rank Test Results with Bonferroni Correction for WTP:\n"
     ]
    },
    {
     "data": {
      "text/html": [
       "<div>\n",
       "<style scoped>\n",
       "    .dataframe tbody tr th:only-of-type {\n",
       "        vertical-align: middle;\n",
       "    }\n",
       "\n",
       "    .dataframe tbody tr th {\n",
       "        vertical-align: top;\n",
       "    }\n",
       "\n",
       "    .dataframe thead th {\n",
       "        text-align: right;\n",
       "    }\n",
       "</style>\n",
       "<table border=\"1\" class=\"dataframe\">\n",
       "  <thead>\n",
       "    <tr style=\"text-align: right;\">\n",
       "      <th></th>\n",
       "      <th>Group 1</th>\n",
       "      <th>Group 2</th>\n",
       "      <th>P-value</th>\n",
       "      <th>Bonferroni Corrected</th>\n",
       "    </tr>\n",
       "  </thead>\n",
       "  <tbody>\n",
       "    <tr>\n",
       "      <th>0</th>\n",
       "      <td>Abstract</td>\n",
       "      <td>Combination</td>\n",
       "      <td>0.0000</td>\n",
       "      <td>True</td>\n",
       "    </tr>\n",
       "    <tr>\n",
       "      <th>1</th>\n",
       "      <td>Abstract</td>\n",
       "      <td>Evaluative</td>\n",
       "      <td>0.6179</td>\n",
       "      <td>False</td>\n",
       "    </tr>\n",
       "    <tr>\n",
       "      <th>2</th>\n",
       "      <td>Abstract</td>\n",
       "      <td>Source-based</td>\n",
       "      <td>0.0002</td>\n",
       "      <td>True</td>\n",
       "    </tr>\n",
       "    <tr>\n",
       "      <th>3</th>\n",
       "      <td>Combination</td>\n",
       "      <td>Evaluative</td>\n",
       "      <td>0.0000</td>\n",
       "      <td>True</td>\n",
       "    </tr>\n",
       "    <tr>\n",
       "      <th>4</th>\n",
       "      <td>Combination</td>\n",
       "      <td>Source-based</td>\n",
       "      <td>0.5537</td>\n",
       "      <td>False</td>\n",
       "    </tr>\n",
       "    <tr>\n",
       "      <th>5</th>\n",
       "      <td>Evaluative</td>\n",
       "      <td>Source-based</td>\n",
       "      <td>0.0009</td>\n",
       "      <td>True</td>\n",
       "    </tr>\n",
       "  </tbody>\n",
       "</table>\n",
       "</div>"
      ],
      "text/plain": [
       "       Group 1       Group 2  P-value  Bonferroni Corrected\n",
       "0     Abstract   Combination   0.0000                  True\n",
       "1     Abstract    Evaluative   0.6179                 False\n",
       "2     Abstract  Source-based   0.0002                  True\n",
       "3  Combination    Evaluative   0.0000                  True\n",
       "4  Combination  Source-based   0.5537                 False\n",
       "5   Evaluative  Source-based   0.0009                  True"
      ]
     },
     "execution_count": 28,
     "metadata": {},
     "output_type": "execute_result"
    }
   ],
   "source": [
    "pairwise_wilcoxon_bonferroni(WTP_r, dv='WTP', within='Description_type', alpha = 0.05)"
   ]
  },
  {
   "cell_type": "markdown",
   "metadata": {},
   "source": [
    "# OTHER FACTORS"
   ]
  },
  {
   "cell_type": "markdown",
   "metadata": {},
   "source": [
    "## Load the trial-wise data"
   ]
  },
  {
   "cell_type": "code",
   "execution_count": 29,
   "metadata": {},
   "outputs": [],
   "source": [
    "data_by_trial = pd.read_excel(\"CoffeeImagery_DataExp1ByTrial_20220824.xlsx\")\n",
    "data_by_trial = data_by_trial[~(data_by_trial[\"Participant\"] == 39)]  # removing the outliers"
   ]
  },
  {
   "cell_type": "markdown",
   "metadata": {},
   "source": [
    "## Linear mixed model fit by maximum likelihood"
   ]
  },
  {
   "cell_type": "markdown",
   "metadata": {},
   "source": [
    "### VOI"
   ]
  },
  {
   "cell_type": "markdown",
   "metadata": {},
   "source": [
    "#### Trial-Wise"
   ]
  },
  {
   "cell_type": "code",
   "execution_count": 30,
   "metadata": {},
   "outputs": [
    {
     "name": "stdout",
     "output_type": "stream",
     "text": [
      "                                     Mixed Linear Model Regression Results\n",
      "===============================================================================================================\n",
      "Model:                               MixedLM                   Dependent Variable:                   VOI       \n",
      "No. Observations:                    780                       Method:                               REML      \n",
      "No. Groups:                          39                        Scale:                                0.6223    \n",
      "Min. group size:                     20                        Log-Likelihood:                       -1023.4003\n",
      "Max. group size:                     20                        Converged:                            Yes       \n",
      "Mean group size:                     20.0                                                                      \n",
      "---------------------------------------------------------------------------------------------------------------\n",
      "                                                                     Coef.  Std.Err.   z    P>|z| [0.025 0.975]\n",
      "---------------------------------------------------------------------------------------------------------------\n",
      "Intercept                                                             2.315    0.671  3.450 0.001  1.000  3.631\n",
      "Description_type[T.Combination]                                       0.415    0.104  3.982 0.000  0.211  0.620\n",
      "Description_type[T.Concrete]                                          0.667    0.150  4.445 0.000  0.373  0.961\n",
      "Description_type[T.Evaluative]                                       -0.831    0.120 -6.913 0.000 -1.066 -0.595\n",
      "ImageryM                                                             -0.031    0.177 -0.178 0.859 -0.378  0.315\n",
      "ExpertiseM                                                           -0.035    0.068 -0.506 0.613 -0.169  0.100\n",
      "DrinkCoffeeNum                                                        0.348    0.161  2.158 0.031  0.032  0.665\n",
      "Group Var                                                             0.457    0.180                           \n",
      "Group x Description_type[T.Combination] Cov                          -0.134    0.119                           \n",
      "Description_type[T.Combination] Var                                   0.175    0.129                           \n",
      "Group x Description_type[T.Concrete] Cov                             -0.224    0.167                           \n",
      "Description_type[T.Combination] x Description_type[T.Concrete] Cov    0.321    0.159                           \n",
      "Description_type[T.Concrete] Var                                      0.628    0.263                           \n",
      "Group x Description_type[T.Evaluative] Cov                            0.004    0.124                           \n",
      "Description_type[T.Combination] x Description_type[T.Evaluative] Cov -0.051    0.103                           \n",
      "Description_type[T.Concrete] x Description_type[T.Evaluative] Cov    -0.205    0.146                           \n",
      "Description_type[T.Evaluative] Var                                    0.314    0.169                           \n",
      "===============================================================================================================\n",
      "\n"
     ]
    }
   ],
   "source": [
    "formula = \"VOI ~ Description_type + ImageryM + ExpertiseM + DrinkCoffeeNum\"\n",
    "\n",
    "# Fit the mixed-effects model\n",
    "mixed_model = smf.mixedlm(formula, data_by_trial, groups=data_by_trial[\"Participant\"], re_formula=\"~Description_type\").fit()\n",
    "\n",
    "print(mixed_model.summary())"
   ]
  },
  {
   "cell_type": "markdown",
   "metadata": {},
   "source": [
    "#### Averaged-Data"
   ]
  },
  {
   "cell_type": "code",
   "execution_count": 31,
   "metadata": {},
   "outputs": [
    {
     "name": "stdout",
     "output_type": "stream",
     "text": [
      "                                      Mixed Linear Model Regression Results\n",
      "=================================================================================================================\n",
      "Model:                                MixedLM                    Dependent Variable:                    VOI      \n",
      "No. Observations:                     160                        Method:                                REML     \n",
      "No. Groups:                           40                         Scale:                                 0.1144   \n",
      "Min. group size:                      4                          Log-Likelihood:                        -162.5907\n",
      "Max. group size:                      4                          Converged:                             Yes      \n",
      "Mean group size:                      4.0                                                                        \n",
      "-----------------------------------------------------------------------------------------------------------------\n",
      "                                                                       Coef.  Std.Err.   z    P>|z| [0.025 0.975]\n",
      "-----------------------------------------------------------------------------------------------------------------\n",
      "Intercept                                                               2.240    0.655  3.420 0.001  0.956  3.524\n",
      "Description_type[T.Combination]                                         0.405    0.101  3.994 0.000  0.206  0.604\n",
      "Description_type[T.Evaluative]                                         -0.855    0.120 -7.148 0.000 -1.089 -0.621\n",
      "Description_type[T.Source-based]                                        0.665    0.146  4.551 0.000  0.379  0.951\n",
      "ImageryM                                                               -0.005    0.171 -0.031 0.975 -0.340  0.329\n",
      "ExpertiseM                                                             -0.027    0.066 -0.416 0.678 -0.157  0.102\n",
      "DrinkCoffeeNum                                                          0.326    0.157  2.078 0.038  0.018  0.634\n",
      "Group Var                                                               0.467                                    \n",
      "Group x Description_type[T.Combination] Cov                            -0.144                                    \n",
      "Description_type[T.Combination] Var                                     0.182                                    \n",
      "Group x Description_type[T.Evaluative] Cov                             -0.021                                    \n",
      "Description_type[T.Combination] x Description_type[T.Evaluative] Cov   -0.033                                    \n",
      "Description_type[T.Evaluative] Var                                      0.343                                    \n",
      "Group x Description_type[T.Source-based] Cov                           -0.227                                    \n",
      "Description_type[T.Combination] x Description_type[T.Source-based] Cov  0.322                                    \n",
      "Description_type[T.Evaluative] x Description_type[T.Source-based] Cov  -0.192                                    \n",
      "Description_type[T.Source-based] Var                                    0.625                                    \n",
      "=================================================================================================================\n",
      "\n"
     ]
    }
   ],
   "source": [
    "formula = \"VOI ~ Description_type + ImageryM + ExpertiseM + DrinkCoffeeNum\"\n",
    "\n",
    "# Fit the mixed-effects model\n",
    "mixed_model = smf.mixedlm(formula, Data_exp1_mean_r, groups=Data_exp1_mean_r[\"Participant\"], re_formula=\"~Description_type\").fit()\n",
    "\n",
    "print(mixed_model.summary())"
   ]
  },
  {
   "cell_type": "markdown",
   "metadata": {},
   "source": [
    "### DTT"
   ]
  },
  {
   "cell_type": "markdown",
   "metadata": {},
   "source": [
    "#### Trial-Wise"
   ]
  },
  {
   "cell_type": "code",
   "execution_count": 32,
   "metadata": {},
   "outputs": [
    {
     "name": "stdout",
     "output_type": "stream",
     "text": [
      "                                     Mixed Linear Model Regression Results\n",
      "===============================================================================================================\n",
      "Model:                               MixedLM                   Dependent Variable:                   DTT       \n",
      "No. Observations:                    780                       Method:                               REML      \n",
      "No. Groups:                          39                        Scale:                                0.8160    \n",
      "Min. group size:                     20                        Log-Likelihood:                       -1102.1943\n",
      "Max. group size:                     20                        Converged:                            Yes       \n",
      "Mean group size:                     20.0                                                                      \n",
      "---------------------------------------------------------------------------------------------------------------\n",
      "                                                                     Coef.  Std.Err.   z    P>|z| [0.025 0.975]\n",
      "---------------------------------------------------------------------------------------------------------------\n",
      "Intercept                                                             2.061    0.539  3.823 0.000  1.004  3.117\n",
      "Description_type[T.Combination]                                       0.462    0.104  4.428 0.000  0.257  0.666\n",
      "Description_type[T.Concrete]                                          0.354    0.132  2.678 0.007  0.095  0.613\n",
      "Description_type[T.Evaluative]                                       -0.062    0.124 -0.496 0.620 -0.305  0.182\n",
      "ImageryM                                                              0.127    0.147  0.866 0.387 -0.161  0.415\n",
      "ExpertiseM                                                           -0.012    0.055 -0.213 0.831 -0.119  0.095\n",
      "DrinkCoffeeNum                                                        0.047    0.130  0.358 0.720 -0.209  0.302\n",
      "Group Var                                                             0.143    0.086                           \n",
      "Group x Description_type[T.Combination] Cov                           0.013    0.079                           \n",
      "Description_type[T.Combination] Var                                   0.097    0.267                           \n",
      "Group x Description_type[T.Concrete] Cov                              0.010    0.096                           \n",
      "Description_type[T.Combination] x Description_type[T.Concrete] Cov    0.180    0.174                           \n",
      "Description_type[T.Concrete] Var                                      0.355    0.239                           \n",
      "Group x Description_type[T.Evaluative] Cov                            0.114    0.079                           \n",
      "Description_type[T.Combination] x Description_type[T.Evaluative] Cov -0.063    0.116                           \n",
      "Description_type[T.Concrete] x Description_type[T.Evaluative] Cov    -0.178    0.127                           \n",
      "Description_type[T.Evaluative] Var                                    0.274    0.169                           \n",
      "===============================================================================================================\n",
      "\n"
     ]
    }
   ],
   "source": [
    "formula = \"DTT ~ Description_type + ImageryM + ExpertiseM + DrinkCoffeeNum\"\n",
    "\n",
    "# Fit the mixed-effects model\n",
    "mixed_model = smf.mixedlm(formula, data_by_trial, groups=data_by_trial[\"Participant\"], re_formula=\"~Description_type\").fit()\n",
    "\n",
    "print(mixed_model.summary())"
   ]
  },
  {
   "cell_type": "markdown",
   "metadata": {},
   "source": [
    "#### Averaged-Data"
   ]
  },
  {
   "cell_type": "code",
   "execution_count": 33,
   "metadata": {},
   "outputs": [
    {
     "name": "stdout",
     "output_type": "stream",
     "text": [
      "                                      Mixed Linear Model Regression Results\n",
      "=================================================================================================================\n",
      "Model:                                MixedLM                    Dependent Variable:                    DTT      \n",
      "No. Observations:                     160                        Method:                                REML     \n",
      "No. Groups:                           40                         Scale:                                 0.0816   \n",
      "Min. group size:                      4                          Log-Likelihood:                        -144.7318\n",
      "Max. group size:                      4                          Converged:                             Yes      \n",
      "Mean group size:                      4.0                                                                        \n",
      "-----------------------------------------------------------------------------------------------------------------\n",
      "                                                                       Coef.  Std.Err.   z    P>|z| [0.025 0.975]\n",
      "-----------------------------------------------------------------------------------------------------------------\n",
      "Intercept                                                               1.968    0.526  3.743 0.000  0.938  2.999\n",
      "Description_type[T.Combination]                                         0.465    0.095  4.875 0.000  0.278  0.652\n",
      "Description_type[T.Evaluative]                                         -0.070    0.121 -0.580 0.562 -0.306  0.166\n",
      "Description_type[T.Source-based]                                        0.360    0.127  2.845 0.004  0.112  0.608\n",
      "ImageryM                                                                0.151    0.141  1.074 0.283 -0.125  0.428\n",
      "ExpertiseM                                                              0.003    0.053  0.056 0.956 -0.101  0.107\n",
      "DrinkCoffeeNum                                                          0.016    0.126  0.129 0.897 -0.230  0.263\n",
      "Group Var                                                               0.226                                    \n",
      "Group x Description_type[T.Combination] Cov                            -0.062                                    \n",
      "Description_type[T.Combination] Var                                     0.201                                    \n",
      "Group x Description_type[T.Evaluative] Cov                              0.033                                    \n",
      "Description_type[T.Combination] x Description_type[T.Evaluative] Cov    0.028                                    \n",
      "Description_type[T.Evaluative] Var                                      0.418                                    \n",
      "Group x Description_type[T.Source-based] Cov                           -0.063                                    \n",
      "Description_type[T.Combination] x Description_type[T.Source-based] Cov  0.287                                    \n",
      "Description_type[T.Evaluative] x Description_type[T.Source-based] Cov  -0.110                                    \n",
      "Description_type[T.Source-based] Var                                    0.477                                    \n",
      "=================================================================================================================\n",
      "\n"
     ]
    }
   ],
   "source": [
    "formula = \"DTT ~ Description_type + ImageryM + ExpertiseM + DrinkCoffeeNum\"\n",
    "\n",
    "# Fit the mixed-effects model\n",
    "mixed_model = smf.mixedlm(formula, Data_exp1_mean_r, groups=Data_exp1_mean_r[\"Participant\"], re_formula=\"~Description_type\").fit()\n",
    "\n",
    "print(mixed_model.summary())"
   ]
  },
  {
   "cell_type": "markdown",
   "metadata": {},
   "source": [
    "### WTP"
   ]
  },
  {
   "cell_type": "markdown",
   "metadata": {},
   "source": [
    "#### Trial-Wise"
   ]
  },
  {
   "cell_type": "code",
   "execution_count": 34,
   "metadata": {},
   "outputs": [
    {
     "name": "stdout",
     "output_type": "stream",
     "text": [
      "                                     Mixed Linear Model Regression Results\n",
      "===============================================================================================================\n",
      "Model:                               MixedLM                   Dependent Variable:                   WTP       \n",
      "No. Observations:                    780                       Method:                               REML      \n",
      "No. Groups:                          39                        Scale:                                2.3051    \n",
      "Min. group size:                     20                        Log-Likelihood:                       -1553.7793\n",
      "Max. group size:                     20                        Converged:                            Yes       \n",
      "Mean group size:                     20.0                                                                      \n",
      "---------------------------------------------------------------------------------------------------------------\n",
      "                                                                     Coef.  Std.Err.   z    P>|z| [0.025 0.975]\n",
      "---------------------------------------------------------------------------------------------------------------\n",
      "Intercept                                                             1.072    2.743  0.391 0.696 -4.304  6.448\n",
      "Description_type[T.Combination]                                       0.993    0.218  4.561 0.000  0.566  1.420\n",
      "Description_type[T.Concrete]                                          1.125    0.271  4.154 0.000  0.594  1.656\n",
      "Description_type[T.Evaluative]                                       -0.006    0.230 -0.025 0.980 -0.456  0.444\n",
      "ImageryM                                                              0.965    0.725  1.330 0.184 -0.457  2.386\n",
      "ExpertiseM                                                           -0.343    0.267 -1.285 0.199 -0.866  0.180\n",
      "DrinkCoffeeNum                                                        0.737    0.635  1.162 0.245 -0.507  1.981\n",
      "Group Var                                                             5.711    0.999                           \n",
      "Group x Description_type[T.Combination] Cov                           0.354    0.381                           \n",
      "Description_type[T.Combination] Var                                   0.928    0.291                           \n",
      "Group x Description_type[T.Concrete] Cov                              0.073    0.483                           \n",
      "Description_type[T.Combination] x Description_type[T.Concrete] Cov    1.283    0.316                           \n",
      "Description_type[T.Concrete] Var                                      1.938    0.447                           \n",
      "Group x Description_type[T.Evaluative] Cov                            0.206    0.390                           \n",
      "Description_type[T.Combination] x Description_type[T.Evaluative] Cov -0.222    0.211                           \n",
      "Description_type[T.Concrete] x Description_type[T.Evaluative] Cov    -0.704    0.261                           \n",
      "Description_type[T.Evaluative] Var                                    1.135    0.320                           \n",
      "===============================================================================================================\n",
      "\n"
     ]
    }
   ],
   "source": [
    "formula = \"WTP ~ Description_type + ImageryM + ExpertiseM + DrinkCoffeeNum\"\n",
    "\n",
    "# Fit the mixed-effects model\n",
    "mixed_model = smf.mixedlm(formula, data_by_trial, groups=data_by_trial[\"Participant\"], re_formula=\"~Description_type\").fit()\n",
    "\n",
    "print(mixed_model.summary())"
   ]
  },
  {
   "cell_type": "markdown",
   "metadata": {},
   "source": [
    "#### Averaged-Data"
   ]
  },
  {
   "cell_type": "code",
   "execution_count": 35,
   "metadata": {},
   "outputs": [
    {
     "name": "stdout",
     "output_type": "stream",
     "text": [
      "                                      Mixed Linear Model Regression Results\n",
      "=================================================================================================================\n",
      "Model:                                MixedLM                    Dependent Variable:                    WTP      \n",
      "No. Observations:                     160                        Method:                                REML     \n",
      "No. Groups:                           40                         Scale:                                 0.4189   \n",
      "Min. group size:                      4                          Log-Likelihood:                        -292.8240\n",
      "Max. group size:                      4                          Converged:                             Yes      \n",
      "Mean group size:                      4.0                                                                        \n",
      "-----------------------------------------------------------------------------------------------------------------\n",
      "                                                                       Coef.  Std.Err.   z    P>|z| [0.025 0.975]\n",
      "-----------------------------------------------------------------------------------------------------------------\n",
      "Intercept                                                              -0.754    3.098 -0.243 0.808 -6.826  5.318\n",
      "Description_type[T.Combination]                                         1.005    0.212  4.751 0.000  0.590  1.420\n",
      "Description_type[T.Evaluative]                                         -0.011    0.224 -0.047 0.962 -0.449  0.428\n",
      "Description_type[T.Source-based]                                        1.117    0.264  4.239 0.000  0.601  1.634\n",
      "ImageryM                                                                1.539    0.811  1.897 0.058 -0.051  3.129\n",
      "ExpertiseM                                                             -0.155    0.303 -0.510 0.610 -0.749  0.440\n",
      "DrinkCoffeeNum                                                          0.174    0.718  0.242 0.809 -1.234  1.582\n",
      "Group Var                                                               8.156                                    \n",
      "Group x Description_type[T.Combination] Cov                             0.371                                    \n",
      "Description_type[T.Combination] Var                                     0.952                                    \n",
      "Group x Description_type[T.Evaluative] Cov                              0.240                                    \n",
      "Description_type[T.Combination] x Description_type[T.Evaluative] Cov   -0.184                                    \n",
      "Description_type[T.Evaluative] Var                                      1.165                                    \n",
      "Group x Description_type[T.Source-based] Cov                           -0.200                                    \n",
      "Description_type[T.Combination] x Description_type[T.Source-based] Cov  1.289                                    \n",
      "Description_type[T.Evaluative] x Description_type[T.Source-based] Cov  -0.657                                    \n",
      "Description_type[T.Source-based] Var                                    1.941                                    \n",
      "=================================================================================================================\n",
      "\n"
     ]
    }
   ],
   "source": [
    "formula = \"WTP ~ Description_type + ImageryM + ExpertiseM + DrinkCoffeeNum\"\n",
    "\n",
    "# Fit the mixed-effects model\n",
    "mixed_model = smf.mixedlm(formula, Data_exp1_mean_r, groups=Data_exp1_mean_r[\"Participant\"], re_formula=\"~Description_type\").fit()\n",
    "\n",
    "print(mixed_model.summary())"
   ]
  },
  {
   "cell_type": "markdown",
   "metadata": {},
   "source": [
    "## Regression analysis, predicting WTP from VOI and DTT with age as covariate"
   ]
  },
  {
   "cell_type": "markdown",
   "metadata": {},
   "source": [
    "#### Trial-Wise"
   ]
  },
  {
   "cell_type": "code",
   "execution_count": 36,
   "metadata": {},
   "outputs": [
    {
     "name": "stdout",
     "output_type": "stream",
     "text": [
      "                                     Mixed Linear Model Regression Results\n",
      "===============================================================================================================\n",
      "Model:                               MixedLM                   Dependent Variable:                   WTP       \n",
      "No. Observations:                    780                       Method:                               REML      \n",
      "No. Groups:                          39                        Scale:                                1.2832    \n",
      "Min. group size:                     20                        Log-Likelihood:                       -1332.1920\n",
      "Max. group size:                     20                        Converged:                            Yes       \n",
      "Mean group size:                     20.0                                                                      \n",
      "---------------------------------------------------------------------------------------------------------------\n",
      "                                                                     Coef.  Std.Err.   z    P>|z| [0.025 0.975]\n",
      "---------------------------------------------------------------------------------------------------------------\n",
      "Intercept                                                            -0.098    1.204 -0.081 0.935 -2.457  2.261\n",
      "Description_type[T.Combination]                                       0.386    0.162  2.374 0.018  0.067  0.704\n",
      "Description_type[T.Concrete]                                          0.485    0.190  2.549 0.011  0.112  0.858\n",
      "Description_type[T.Evaluative]                                        0.463    0.148  3.126 0.002  0.173  0.753\n",
      "VOI                                                                   0.500    0.061  8.188 0.000  0.380  0.619\n",
      "DTT                                                                   0.867    0.054 15.919 0.000  0.760  0.974\n",
      "Age                                                                   0.038    0.033  1.164 0.244 -0.026  0.103\n",
      "Group Var                                                             5.078    1.137                           \n",
      "Group x Description_type[T.Combination] Cov                           0.423    0.333                           \n",
      "Description_type[T.Combination] Var                                   0.492    0.210                           \n",
      "Group x Description_type[T.Concrete] Cov                              0.272    0.390                           \n",
      "Description_type[T.Combination] x Description_type[T.Concrete] Cov    0.630    0.215                           \n",
      "Description_type[T.Concrete] Var                                      0.852    0.285                           \n",
      "Group x Description_type[T.Evaluative] Cov                           -0.138    0.323                           \n",
      "Description_type[T.Combination] x Description_type[T.Evaluative] Cov -0.204    0.125                           \n",
      "Description_type[T.Concrete] x Description_type[T.Evaluative] Cov    -0.248    0.146                           \n",
      "Description_type[T.Evaluative] Var                                    0.247    0.160                           \n",
      "===============================================================================================================\n",
      "\n"
     ]
    }
   ],
   "source": [
    "formula = \"WTP ~ Description_type + VOI + DTT + Age\"\n",
    "\n",
    "# Fit the mixed-effects model\n",
    "mixed_model = smf.mixedlm(formula, data_by_trial, groups=data_by_trial[\"Participant\"], re_formula=\"~Description_type\").fit()\n",
    "# Print the summary\n",
    "print(mixed_model.summary())\n"
   ]
  },
  {
   "cell_type": "markdown",
   "metadata": {},
   "source": [
    "#### Averaged-Data"
   ]
  },
  {
   "cell_type": "code",
   "execution_count": 37,
   "metadata": {},
   "outputs": [
    {
     "name": "stdout",
     "output_type": "stream",
     "text": [
      "                                     Mixed Linear Model Regression Results\n",
      "================================================================================================================\n",
      "Model:                               MixedLM                    Dependent Variable:                    WTP      \n",
      "No. Observations:                    160                        Method:                                REML     \n",
      "No. Groups:                          40                         Scale:                                 0.2648   \n",
      "Min. group size:                     4                          Log-Likelihood:                        -252.7909\n",
      "Max. group size:                     4                          Converged:                             Yes      \n",
      "Mean group size:                     4.0                                                                        \n",
      "----------------------------------------------------------------------------------------------------------------\n",
      "                                                                       Coef.  Std.Err.   z   P>|z| [0.025 0.975]\n",
      "----------------------------------------------------------------------------------------------------------------\n",
      "Intercept                                                               0.330    1.355 0.244 0.807 -2.326  2.987\n",
      "Description_type[T.Combination]                                         0.299    0.168 1.780 0.075 -0.030  0.628\n",
      "Description_type[T.Evaluative]                                          0.606    0.182 3.324 0.001  0.249  0.963\n",
      "Description_type[T.Source-based]                                        0.345    0.198 1.737 0.082 -0.044  0.733\n",
      "VOI                                                                     0.643    0.152 4.232 0.000  0.345  0.940\n",
      "DTT                                                                     0.959    0.164 5.851 0.000  0.638  1.280\n",
      "Age                                                                     0.014    0.036 0.379 0.705 -0.058  0.085\n",
      "Group Var                                                               6.920                                   \n",
      "Group x Description_type[T.Combination] Cov                             0.504                                   \n",
      "Description_type[T.Combination] Var                                     0.454                                   \n",
      "Group x Description_type[T.Evaluative] Cov                              0.151                                   \n",
      "Description_type[T.Combination] x Description_type[T.Evaluative] Cov   -0.201                                   \n",
      "Description_type[T.Evaluative] Var                                      0.197                                   \n",
      "Group x Description_type[T.Source-based] Cov                            0.147                                   \n",
      "Description_type[T.Combination] x Description_type[T.Source-based] Cov  0.584                                   \n",
      "Description_type[T.Evaluative] x Description_type[T.Source-based] Cov  -0.258                                   \n",
      "Description_type[T.Source-based] Var                                    0.802                                   \n",
      "================================================================================================================\n",
      "\n"
     ]
    }
   ],
   "source": [
    "formula = \"WTP ~ Description_type + VOI + DTT + Age\"\n",
    "\n",
    "# Fit the mixed-effects model\n",
    "mixed_model = smf.mixedlm(formula, Data_exp1_mean_r, groups=Data_exp1_mean_r[\"Participant\"], re_formula=\"~Description_type\").fit()\n",
    "# Print the summary\n",
    "print(mixed_model.summary())\n"
   ]
  }
 ],
 "metadata": {
  "kernelspec": {
   "display_name": "Python 3",
   "language": "python",
   "name": "python3"
  },
  "language_info": {
   "codemirror_mode": {
    "name": "ipython",
    "version": 3
   },
   "file_extension": ".py",
   "mimetype": "text/x-python",
   "name": "python",
   "nbconvert_exporter": "python",
   "pygments_lexer": "ipython3",
   "version": "3.11.5"
  }
 },
 "nbformat": 4,
 "nbformat_minor": 2
}
